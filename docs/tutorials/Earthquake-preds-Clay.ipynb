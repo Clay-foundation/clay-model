{
 "cells": [
  {
   "cell_type": "markdown",
   "id": "84c1ddaf-3149-4461-a0bc-91a4b68d99a2",
   "metadata": {},
   "source": [
    "**Using Clay embeddings to detect Earthquake**"
   ]
  },
  {
   "cell_type": "code",
   "execution_count": null,
   "id": "5bc8c2d1-f2e1-49c9-911b-a4b1fb5efed5",
   "metadata": {},
   "outputs": [],
   "source": [
    "#git clone https://github.com/Clay-foundation/model  #Need to run this for the first time"
   ]
  },
  {
   "cell_type": "code",
   "execution_count": null,
   "id": "52d10e8f-ebfb-4b17-8d84-c57af1188f53",
   "metadata": {},
   "outputs": [],
   "source": [
    "# pip install torchgeo[all]\n",
    "# pip install git+https://github.com/microsoft/torchgeo.git   #Use this to be able to access the QuakeSet dataset"
   ]
  },
  {
   "cell_type": "code",
   "execution_count": 20,
   "id": "89f8bc4b-73ca-47e3-aa07-f444a871ca56",
   "metadata": {},
   "outputs": [],
   "source": [
    "#importing the required modules\n",
    "\n",
    "import torchgeo\n",
    "import torchgeo.datasets as datasets\n",
    "import sys\n",
    "import torch\n",
    "import numpy as np\n",
    "from sklearn.ensemble import RandomForestClassifier\n",
    "from sklearn.metrics import confusion_matrix, ConfusionMatrixDisplay\n",
    "from sklearn.model_selection import train_test_split\n",
    "import matplotlib.pyplot as plt\n",
    "\n",
    "\n",
    "sys.path.append(\"model/\")\n",
    "\n",
    "from src.model import ClayMAEModule"
   ]
  },
  {
   "cell_type": "code",
   "execution_count": 3,
   "id": "d87a1df1-9e67-40af-9b76-147e7c3b6a38",
   "metadata": {},
   "outputs": [
    {
     "data": {
      "text/plain": [
       "'0.6.0.dev0'"
      ]
     },
     "execution_count": 3,
     "metadata": {},
     "output_type": "execute_result"
    }
   ],
   "source": [
    "torchgeo.__version__ #check torchgeo version"
   ]
  },
  {
   "cell_type": "markdown",
   "id": "f7f5ae92-1978-40a1-adcd-56a087f1f67a",
   "metadata": {},
   "source": [
    "**Downloading the QuakeSet dataset**\n",
    "\n",
    "@misc{cambrin2024quakesetdatasetlowresourcemodels,\n",
    "      title={QuakeSet: A Dataset and Low-Resource Models to Monitor Earthquakes through Sentinel-1}, \n",
    "      author={Daniele Rege Cambrin and Paolo Garza},\n",
    "      year={2024},\n",
    "      eprint={2403.18116},\n",
    "      archivePrefix={arXiv},\n",
    "      primaryClass={cs.CV},\n",
    "      url={https://arxiv.org/abs/2403.18116}, \n",
    "}"
   ]
  },
  {
   "cell_type": "code",
   "execution_count": 4,
   "id": "57c7327c-e454-4ca6-bb50-fe67272ca3fd",
   "metadata": {},
   "outputs": [],
   "source": [
    "#We download the QuakeSet dataset available in torchgeo.\n",
    "#We will work with the \"train\" split of the data only to show the workflow\n",
    "\n",
    "train_ds = datasets.QuakeSet(split=\"train\",download=False) #Change download to True to download first time"
   ]
  },
  {
   "cell_type": "code",
   "execution_count": 5,
   "id": "3e60a646-d412-4212-a3a1-e0bf7edc363e",
   "metadata": {},
   "outputs": [],
   "source": [
    "#val_ds = datasets.QuakeSet(split=\"val\",download=False) #Can download and use other splits such \"val\",\"test\""
   ]
  },
  {
   "cell_type": "code",
   "execution_count": 6,
   "id": "c2ebdc0c-d4d8-4ba2-b97d-babb0d0d4d70",
   "metadata": {},
   "outputs": [
    {
     "data": {
      "text/plain": [
       "torch.Size([4, 512, 512])"
      ]
     },
     "execution_count": 6,
     "metadata": {},
     "output_type": "execute_result"
    }
   ],
   "source": [
    "#Checking the Sentinel-1 imagery size. \n",
    "\n",
    "#Each sample consists of pre and post event data with two channels - vv and vh of Sentinel-1\n",
    "\n",
    "train_ds[0][\"image\"].shape"
   ]
  },
  {
   "cell_type": "code",
   "execution_count": 7,
   "id": "df682dd4-7eee-48a7-a42b-3c45cc2a7460",
   "metadata": {},
   "outputs": [
    {
     "name": "stderr",
     "output_type": "stream",
     "text": [
      "/home/zeus/miniconda3/envs/cloudspace/lib/python3.10/site-packages/torch/nn/modules/transformer.py:286: UserWarning: enable_nested_tensor is True, but self.use_nested_tensor is False because encoder_layer.self_attn.batch_first was not True(use batch_first for better inference performance)\n",
      "  warnings.warn(f\"enable_nested_tensor is True, but self.use_nested_tensor is False because {why_not_sparsity_fast_path}\")\n"
     ]
    }
   ],
   "source": [
    "#Download Clay-1 model\n",
    "\n",
    "device = torch.device(\"cuda\") if torch.cuda.is_available() else torch.device(\"cpu\")\n",
    "ckpt = \"https://clay-model-ckpt.s3.amazonaws.com/v0.5.7/mae_v0.5.7_epoch-13_val-loss-0.3098.ckpt\"\n",
    "torch.set_default_device(device)\n",
    "\n",
    "model = ClayMAEModule.load_from_checkpoint(\n",
    "    ckpt, metadata_path=\"model/configs/metadata.yaml\", shuffle=False, mask_ratio=0\n",
    ")\n",
    "model.eval()\n",
    "\n",
    "model = model.to(device)"
   ]
  },
  {
   "cell_type": "code",
   "execution_count": 8,
   "id": "b115e660-fb27-4340-a8e5-09d29c330d1b",
   "metadata": {},
   "outputs": [],
   "source": [
    "#Dataset class to use for loading the data\n",
    "\n",
    "class EarthQuakeDataset:\n",
    "    def __init__(self,ds):\n",
    "        self.ds = ds\n",
    "    \n",
    "    def __len__(self):\n",
    "        return len(self.ds)\n",
    "\n",
    "    def __getitem__(self,idx):\n",
    "        pre_image = self.ds[idx][\"image\"][:2,:,:]  #First two images are Sentinel-1 images (vv & vh band) of pre-event \n",
    "        post_image = self.ds[idx][\"image\"][2:,:,:] #Last two images are Sentinel-1 images (vv & vh band) of post-event\n",
    "        label = self.ds[idx][\"label\"]\n",
    "\n",
    "        sample = {\n",
    "            \"pixels1\": pre_image,  # 2 x 512 x 512\n",
    "            \"pixels2\": post_image, # 2 x 512 x 512\n",
    "            \"time\": torch.zeros(4),  # Placeholder for time information\n",
    "            \"latlon\": torch.zeros(4),  # Placeholder for latlon information\n",
    "            \"label\":label\n",
    "        }\n",
    "\n",
    "       \n",
    "        return sample\n",
    "\n",
    "\n",
    "#Construct training dataset object\n",
    "train_dataset = EarthQuakeDataset(train_ds)\n",
    "\n",
    "#validation_dataset = EarthQuakeDataset(val_ds)"
   ]
  },
  {
   "cell_type": "code",
   "execution_count": null,
   "id": "bbc4fd0a-0483-4dfd-a82e-a0da1a1530de",
   "metadata": {},
   "outputs": [],
   "source": [
    "#Dataloaders from dataset\n",
    "train_dl = torch.utils.data.DataLoader(train_dataset,batch_size=32,shuffle=True,generator=torch.Generator(device=device))\n",
    "#val_dl = torch.utils.data.DataLoader(validation_dataset,batch_size=32,shuffle=False,generator=torch.Generator(device=device))"
   ]
  },
  {
   "cell_type": "code",
   "execution_count": 17,
   "id": "6ac0b263-f334-41ee-88fd-cab4195cb767",
   "metadata": {},
   "outputs": [
    {
     "data": {
      "application/vnd.jupyter.widget-view+json": {
       "model_id": "d8f69b8f67fe4f95bfb66471e6f38e88",
       "version_major": 2,
       "version_minor": 0
      },
      "text/plain": [
       "  0%|          | 0/284 [00:00<?, ?it/s]"
      ]
     },
     "metadata": {},
     "output_type": "display_data"
    }
   ],
   "source": [
    "#Generate embeddings for the data\n",
    "\n",
    "from tqdm.auto import tqdm\n",
    "\n",
    "gsd =  torch.tensor(10, device=device)  #Ground sampling distance for Sentinel-1\n",
    "waves = torch.tensor([3.5,4.0], device=device)  #wavelengths for Sentinel-1\n",
    "\n",
    "embeddings1 = []\n",
    "embeddings2 = []\n",
    "target = []\n",
    "\n",
    "for bid,batch in enumerate(tqdm(train_dl)):\n",
    "   \n",
    "    datacube1 = {\n",
    "        \"pixels\": batch[\"pixels1\"].to(device),\n",
    "        \"time\":batch[\"time\"].to(device),\n",
    "        \"latlon\":batch[\"latlon\"].to(device),\n",
    "        \"gsd\": gsd,\n",
    "        \"waves\": waves,\n",
    "    }\n",
    "\n",
    "    datacube2 = {\n",
    "        \"pixels\": batch[\"pixels2\"].to(device),\n",
    "        \"time\":batch[\"time\"].to(device),\n",
    "        \"latlon\":batch[\"latlon\"].to(device),\n",
    "        \"gsd\": gsd,\n",
    "        \"waves\": waves,\n",
    "    }\n",
    "\n",
    "    with torch.no_grad():\n",
    "        unmsk_patch1, unmsk_idx1, msk_idx1, msk_matrix1 = model.model.encoder(datacube1)\n",
    "        unmsk_patch2, unmsk_idx2, msk_idx2, msk_matrix2 = model.model.encoder(datacube2)\n",
    "\n",
    "    emb1 = unmsk_patch1[:, 0, :].cpu().numpy()\n",
    "    emb2 = unmsk_patch2[:, 0, :].cpu().numpy()\n",
    "\n",
    "    embeddings1.append(emb1)\n",
    "    embeddings2.append(emb2)\n",
    "    target.append(batch[\"label\"].cpu().numpy())\n"
   ]
  },
  {
   "cell_type": "code",
   "execution_count": 28,
   "id": "8a12f703-ffde-4967-9e8a-ecfca9ba5e93",
   "metadata": {},
   "outputs": [],
   "source": [
    "#Saving embeddings and ground truth (label) data\n",
    "\n",
    "np.save(\"train_emb.npy\",np.concatenate((np.concatenate(embeddings1),np.concatenate(embeddings2)),axis=1))\n",
    "np.save(\"train_label.npy\",np.concatenate(target))"
   ]
  },
  {
   "cell_type": "code",
   "execution_count": 29,
   "id": "95b8ffc3-f030-4d83-83eb-c449be524603",
   "metadata": {},
   "outputs": [
    {
     "data": {
      "text/plain": [
       "((2266, 1536), (2266,))"
      ]
     },
     "execution_count": 29,
     "metadata": {},
     "output_type": "execute_result"
    }
   ],
   "source": [
    "#Load the saved embeddings and ground truth (labels)\n",
    "\n",
    "X = np.load(\"train_emb.npy\")\n",
    "y = np.load(\"train_label.npy\")\n",
    "\n",
    "X.shape,y.shape  #Check dimensions. The embeddings have a size of 768. Since we have pre-event and post-event image and we concatenate the embeddings so the dimension is 768 x 2 "
   ]
  },
  {
   "cell_type": "code",
   "execution_count": 32,
   "id": "4545418a-6a19-4f70-8665-f5d9f8e09204",
   "metadata": {},
   "outputs": [
    {
     "data": {
      "image/png": "[encoded data removed]",
      "text/plain": [
       "<Figure size 640x480 with 2 Axes>"
      ]
     },
     "metadata": {},
     "output_type": "display_data"
    }
   ],
   "source": [
    "#Train a RandomForestClassifier on the embeddings\n",
    "\n",
    "X_train, X_test, y_train, y_test = train_test_split(X, y,random_state=42)  #Split the data into two parts - one for training and other for validation \n",
    "\n",
    "clf = RandomForestClassifier() #Instantiate a RandomForestClassifier\n",
    "clf.fit(X_train, y_train) #Train on embeddings\n",
    "predictions = clf.predict(X_test) #Generate predictions\n",
    "\n",
    "#Confusion matrix\n",
    "cm = confusion_matrix(y_test, predictions, labels=clf.classes_)\n",
    "disp = ConfusionMatrixDisplay(confusion_matrix=cm,display_labels=clf.classes_)\n",
    "disp.plot()\n",
    "plt.show()"
   ]
  },
  {
   "cell_type": "code",
   "execution_count": 37,
   "id": "f0f6fb57-3a2b-49eb-bfe5-14c37dedbdd0",
   "metadata": {},
   "outputs": [
    {
     "name": "stdout",
     "output_type": "stream",
     "text": [
      "F1 score:  0.9088050314465408\n"
     ]
    }
   ],
   "source": [
    "#check F1-score which is the metric for the competition which uses this data - \"ECML-PKDD 2024 - SMAC: Seismic Monitoring and Analysis Challenge\" https://www.codabench.org/competitions/2222/#/pages-tab had F1-score upward of 0.908 with training Deep Learning Models\n",
    "\n",
    "from sklearn.metrics import f1_score\n",
    "\n",
    "score = f1_score(y_test,predictions)\n",
    "\n",
    "print(\"F1 score: \",score)\n",
    "\n"
   ]
  }
 ],
 "metadata": {
  "kernelspec": {
   "display_name": "Python 3",
   "language": "python",
   "name": "python3"
  },
  "language_info": {
   "codemirror_mode": {
    "name": "ipython",
    "version": 3
   },
   "file_extension": ".py",
   "mimetype": "text/x-python",
   "name": "python",
   "nbconvert_exporter": "python",
   "pygments_lexer": "ipython3",
   "version": "3.10.10"
  }
 },
 "nbformat": 4,
 "nbformat_minor": 5
}
