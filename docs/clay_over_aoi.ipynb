{
 "cells": [
  {
   "cell_type": "markdown",
   "id": "c67aed17-49b0-4cc3-9bcb-6110c05ff809",
   "metadata": {},
   "source": [
    "# How to run clay over custom AOIs\n",
    "\n",
    "This script shows in a few simple steps how the clay model can be run for custom AOIs and over custom date ranges.\n",
    "\n",
    "## Download and open global list of MGRS tiles"
   ]
  },
  {
   "cell_type": "code",
   "execution_count": 1,
   "id": "b11e3a6a-3fa9-4c36-9f02-8991f7b4ec8e",
   "metadata": {},
   "outputs": [],
   "source": [
    "import os\n",
    "from pathlib import Path\n",
    "\n",
    "# The repo home is our working directory.\n",
    "wd = Path.cwd().parent\n",
    "os.chdir(wd)\n",
    "# Ensure data directories exist\n",
    "Path(\"data/mgrs\").mkdir(exist_ok=True)\n",
    "Path(\"data/chips\").mkdir(exist_ok=True)\n",
    "Path(\"data/checkpoints\").mkdir(exist_ok=True)\n",
    "Path(\"data/embeddings\").mkdir(exist_ok=True)"
   ]
  },
  {
   "cell_type": "code",
   "execution_count": 2,
   "id": "ac5678f0-1f40-42c2-853f-f1905f4b2cdb",
   "metadata": {},
   "outputs": [
    {
     "name": "stdout",
     "output_type": "stream",
     "text": [
      "--2024-01-12 16:21:52--  https://clay-mgrs-samples.s3.amazonaws.com/mgrs_full.fgb\n",
      "Resolving clay-mgrs-samples.s3.amazonaws.com (clay-mgrs-samples.s3.amazonaws.com)... 3.5.28.121, 52.217.202.65, 54.231.230.89, ...\n",
      "Connecting to clay-mgrs-samples.s3.amazonaws.com (clay-mgrs-samples.s3.amazonaws.com)|3.5.28.121|:443... connected.\n",
      "HTTP request sent, awaiting response... 200 OK\n",
      "Length: 13787464 (13M) [binary/octet-stream]\n",
      "Saving to: ‘data/mgrs/mgrs_full.fgb’\n",
      "\n",
      "data/mgrs/mgrs_full 100%[===================>]  13.15M  3.55MB/s    in 4.3s    \n",
      "\n",
      "2024-01-12 16:21:57 (3.04 MB/s) - ‘data/mgrs/mgrs_full.fgb’ saved [13787464/13787464]\n",
      "\n"
     ]
    }
   ],
   "source": [
    "import geopandas as gpd\n",
    "\n",
    "! wget https://clay-mgrs-samples.s3.amazonaws.com/mgrs_full.fgb -O data/mgrs/mgrs_full.fgb"
   ]
  },
  {
   "cell_type": "code",
   "execution_count": 3,
   "id": "beb8d805-38c6-4b08-bff8-fdb59f598535",
   "metadata": {},
   "outputs": [
    {
     "data": {
      "text/html": [
       "<div>\n",
       "<style scoped>\n",
       "    .dataframe tbody tr th:only-of-type {\n",
       "        vertical-align: middle;\n",
       "    }\n",
       "\n",
       "    .dataframe tbody tr th {\n",
       "        vertical-align: top;\n",
       "    }\n",
       "\n",
       "    .dataframe thead th {\n",
       "        text-align: right;\n",
       "    }\n",
       "</style>\n",
       "<table border=\"1\" class=\"dataframe\">\n",
       "  <thead>\n",
       "    <tr style=\"text-align: right;\">\n",
       "      <th></th>\n",
       "      <th>Name</th>\n",
       "      <th>geometry</th>\n",
       "    </tr>\n",
       "  </thead>\n",
       "  <tbody>\n",
       "    <tr>\n",
       "      <th>0</th>\n",
       "      <td>59CNK</td>\n",
       "      <td>MULTIPOLYGON (((170.99885 -81.06088, 177.30316...</td>\n",
       "    </tr>\n",
       "    <tr>\n",
       "      <th>1</th>\n",
       "      <td>59CNJ</td>\n",
       "      <td>MULTIPOLYGON (((170.99872 -81.95638, 177.99281...</td>\n",
       "    </tr>\n",
       "    <tr>\n",
       "      <th>2</th>\n",
       "      <td>58CEN</td>\n",
       "      <td>MULTIPOLYGON (((164.99856 -82.85238, 172.85358...</td>\n",
       "    </tr>\n",
       "    <tr>\n",
       "      <th>3</th>\n",
       "      <td>58CEP</td>\n",
       "      <td>MULTIPOLYGON (((164.99872 -81.95638, 171.99281...</td>\n",
       "    </tr>\n",
       "    <tr>\n",
       "      <th>4</th>\n",
       "      <td>60CVQ</td>\n",
       "      <td>MULTIPOLYGON (((171.25220 -81.01644, 177.56261...</td>\n",
       "    </tr>\n",
       "    <tr>\n",
       "      <th>...</th>\n",
       "      <td>...</td>\n",
       "      <td>...</td>\n",
       "    </tr>\n",
       "    <tr>\n",
       "      <th>56681</th>\n",
       "      <td>02CMR</td>\n",
       "      <td>MULTIPOLYGON (((-176.23170 -80.12446, -170.488...</td>\n",
       "    </tr>\n",
       "    <tr>\n",
       "      <th>56682</th>\n",
       "      <td>02CMQ</td>\n",
       "      <td>MULTIPOLYGON (((-176.74780 -81.01644, -170.437...</td>\n",
       "    </tr>\n",
       "    <tr>\n",
       "      <th>56683</th>\n",
       "      <td>01CEK</td>\n",
       "      <td>MULTIPOLYGON (((-177.00115 -81.06088, -170.696...</td>\n",
       "    </tr>\n",
       "    <tr>\n",
       "      <th>56684</th>\n",
       "      <td>01CEJ</td>\n",
       "      <td>MULTIPOLYGON (((-177.00128 -81.95638, -170.007...</td>\n",
       "    </tr>\n",
       "    <tr>\n",
       "      <th>56685</th>\n",
       "      <td>01CEH</td>\n",
       "      <td>MULTIPOLYGON (((-177.00144 -82.85238, -169.146...</td>\n",
       "    </tr>\n",
       "  </tbody>\n",
       "</table>\n",
       "<p>56686 rows × 2 columns</p>\n",
       "</div>"
      ],
      "text/plain": [
       "        Name                                           geometry\n",
       "0      59CNK  MULTIPOLYGON (((170.99885 -81.06088, 177.30316...\n",
       "1      59CNJ  MULTIPOLYGON (((170.99872 -81.95638, 177.99281...\n",
       "2      58CEN  MULTIPOLYGON (((164.99856 -82.85238, 172.85358...\n",
       "3      58CEP  MULTIPOLYGON (((164.99872 -81.95638, 171.99281...\n",
       "4      60CVQ  MULTIPOLYGON (((171.25220 -81.01644, 177.56261...\n",
       "...      ...                                                ...\n",
       "56681  02CMR  MULTIPOLYGON (((-176.23170 -80.12446, -170.488...\n",
       "56682  02CMQ  MULTIPOLYGON (((-176.74780 -81.01644, -170.437...\n",
       "56683  01CEK  MULTIPOLYGON (((-177.00115 -81.06088, -170.696...\n",
       "56684  01CEJ  MULTIPOLYGON (((-177.00128 -81.95638, -170.007...\n",
       "56685  01CEH  MULTIPOLYGON (((-177.00144 -82.85238, -169.146...\n",
       "\n",
       "[56686 rows x 2 columns]"
      ]
     },
     "execution_count": 3,
     "metadata": {},
     "output_type": "execute_result"
    }
   ],
   "source": [
    "mgrs = gpd.read_file(\"data/mgrs/mgrs_full.fgb\")\n",
    "mgrs"
   ]
  },
  {
   "cell_type": "code",
   "execution_count": 4,
   "id": "05bd8621-f4d0-40e3-8a4c-ac279f377ec0",
   "metadata": {},
   "outputs": [
    {
     "data": {
      "text/plain": [
       "<Geographic 2D CRS: EPSG:4326>\n",
       "Name: WGS 84\n",
       "Axis Info [ellipsoidal]:\n",
       "- Lat[north]: Geodetic latitude (degree)\n",
       "- Lon[east]: Geodetic longitude (degree)\n",
       "Area of Use:\n",
       "- name: World.\n",
       "- bounds: (-180.0, -90.0, 180.0, 90.0)\n",
       "Datum: World Geodetic System 1984 ensemble\n",
       "- Ellipsoid: WGS 84\n",
       "- Prime Meridian: Greenwich"
      ]
     },
     "execution_count": 4,
     "metadata": {},
     "output_type": "execute_result"
    }
   ],
   "source": [
    "mgrs.crs"
   ]
  },
  {
   "cell_type": "markdown",
   "id": "a5211112-d169-40b4-83af-1a7cc40c2439",
   "metadata": {},
   "source": [
    "## Create a Geopandas dataframe with AOI\n",
    "\n",
    "This example uses a string with a single polygon over the area around Puri, India."
   ]
  },
  {
   "cell_type": "code",
   "execution_count": 5,
   "id": "2cb85d85-1eec-4927-8c53-71e68033a942",
   "metadata": {},
   "outputs": [
    {
     "data": {
      "image/svg+xml": [
       "<svg xmlns=\"http://www.w3.org/2000/svg\" xmlns:xlink=\"http://www.w3.org/1999/xlink\" width=\"100.0\" height=\"100.0\" viewBox=\"84.7647758727867 19.389826947560604 1.3910244317380602 1.2259414120750947\" preserveAspectRatio=\"xMinYMin meet\"><g transform=\"matrix(1,0,0,-1,0,40.0055953071963)\"><path fill-rule=\"evenodd\" fill=\"#66cc99\" stroke=\"#555555\" stroke-width=\"0.027820488634761206\" opacity=\"0.6\" d=\"M 85.05032876899293,19.49499830249873 L 85.16974995888492,19.44134637095831 L 85.96802851682074,19.799945705366934 L 86.02974282300654,20.15322442052609 L 86.10428088112705,20.516965603502392 L 85.40458491618931,20.56424893623799 L 84.94533430002747,20.339711117597215 L 84.8162952961844,19.799945705366934 L 85.05032876899293,19.49499830249873 z\" /></g></svg>"
      ],
      "text/plain": [
       "<POLYGON ((85.05 19.495, 85.17 19.441, 85.968 19.8, 86.03 20.153, 86.104 20....>"
      ]
     },
     "execution_count": 5,
     "metadata": {},
     "output_type": "execute_result"
    }
   ],
   "source": [
    "aoi_src = \"\"\"{\n",
    "    \"type\": \"FeatureCollection\",\n",
    "    \"name\": \"puri\",\n",
    "    \"crs\": {\n",
    "        \"type\": \"name\",\n",
    "        \"properties\": { \"name\": \"urn:ogc:def:crs:OGC:1.3:CRS84\" }\n",
    "    },\n",
    "    \"features\": [\n",
    "        {\n",
    "            \"type\": \"Feature\",\n",
    "            \"properties\": {\n",
    "                \"Region\": \"Puri\"\n",
    "            },\n",
    "            \"geometry\": {\n",
    "                \"type\": \"Polygon\",\n",
    "                \"coordinates\": [ [ [ 85.050328768992927, 19.494998302498729 ], [ 85.169749958884921, 19.441346370958311 ], [ 85.968028516820738, 19.799945705366934 ], [ 86.029742823006544, 20.15322442052609 ], [ 86.104280881127053, 20.516965603502392 ], [ 85.404584916189307, 20.564248936237991 ], [ 84.945334300027469, 20.339711117597215 ], [ 84.816295296184407, 19.799945705366934 ], [ 85.050328768992927, 19.494998302498729 ] ] ]\n",
    "            }\n",
    "        }\n",
    "    ]\n",
    "}\"\"\"\n",
    "aoi = gpd.read_file(aoi_src, driver=\"GeoJSON\")\n",
    "aoi.geometry[0]"
   ]
  },
  {
   "cell_type": "markdown",
   "id": "b1f838fa-4c18-4934-b6cc-dff4702145c9",
   "metadata": {},
   "source": [
    "## Intersect the AOI with the MGRS tile layer\n",
    "\n",
    "This will select the MGRS tiles that intersect with your AOI. The processing will then happen for each of the MGRS tiles. This will most likely provide slightly more data than the AOI itself, as the whole tile data will downloaded for each matched MGRS tile.\n",
    "\n",
    "Store the intersected tiles in a file, it will be used by the `datacube.py` script."
   ]
  },
  {
   "cell_type": "code",
   "execution_count": 6,
   "id": "7ba0c7c2-9937-461a-8c48-d9c607e93bd0",
   "metadata": {},
   "outputs": [
    {
     "data": {
      "image/svg+xml": [
       "<svg xmlns=\"http://www.w3.org/2000/svg\" xmlns:xlink=\"http://www.w3.org/1999/xlink\" width=\"100.0\" height=\"100.0\" viewBox=\"85.04241823851098 19.75700385773015 1.1027035134859204 0.8480859493776904\" preserveAspectRatio=\"xMinYMin meet\"><g transform=\"matrix(1,0,0,-1,0,40.36209366483799)\"><path fill-rule=\"evenodd\" fill=\"#66cc99\" stroke=\"#555555\" stroke-width=\"0.02205407026971841\" opacity=\"0.6\" d=\"M 85.0907496721,19.7978447286 L 85.08325910938082,20.407145617930546 L 85.40458491618931,20.56424893623799 L 86.10428088112705,20.516965603502392 L 86.02974282300654,20.15322442052609 L 85.96885089676832,19.80465335500624 L 85.0907496721,19.7978447286 z\" /></g></svg>"
      ],
      "text/plain": [
       "<POLYGON ((85.091 19.798, 85.083 20.407, 85.405 20.564, 86.104 20.517, 86.03...>"
      ]
     },
     "execution_count": 6,
     "metadata": {},
     "output_type": "execute_result"
    }
   ],
   "source": [
    "mgrs_aoi = mgrs.overlay(aoi)\n",
    "# Rename the name column to use lowercase letters for the datacube script to\n",
    "# pick upthe MGRS tile name.\n",
    "mgrs_aoi = mgrs_aoi.rename(columns={\"Name\": \"name\"})\n",
    "mgrs_aoi.geometry[2]"
   ]
  },
  {
   "cell_type": "code",
   "execution_count": 7,
   "id": "045a0e36-025a-4381-b633-85ab236b1450",
   "metadata": {},
   "outputs": [
    {
     "data": {
      "text/html": [
       "<div>\n",
       "<style scoped>\n",
       "    .dataframe tbody tr th:only-of-type {\n",
       "        vertical-align: middle;\n",
       "    }\n",
       "\n",
       "    .dataframe tbody tr th {\n",
       "        vertical-align: top;\n",
       "    }\n",
       "\n",
       "    .dataframe thead th {\n",
       "        text-align: right;\n",
       "    }\n",
       "</style>\n",
       "<table border=\"1\" class=\"dataframe\">\n",
       "  <thead>\n",
       "    <tr style=\"text-align: right;\">\n",
       "      <th></th>\n",
       "      <th>name</th>\n",
       "      <th>Region</th>\n",
       "      <th>geometry</th>\n",
       "    </tr>\n",
       "  </thead>\n",
       "  <tbody>\n",
       "    <tr>\n",
       "      <th>0</th>\n",
       "      <td>44QRH</td>\n",
       "      <td>Puri</td>\n",
       "      <td>POLYGON ((84.90927 19.76528, 84.84192 19.76656...</td>\n",
       "    </tr>\n",
       "    <tr>\n",
       "      <th>1</th>\n",
       "      <td>45QTC</td>\n",
       "      <td>Puri</td>\n",
       "      <td>POLYGON ((85.18408 19.79882, 84.82081 19.79406...</td>\n",
       "    </tr>\n",
       "    <tr>\n",
       "      <th>2</th>\n",
       "      <td>45QUC</td>\n",
       "      <td>Puri</td>\n",
       "      <td>POLYGON ((85.09075 19.79784, 85.08326 20.40715...</td>\n",
       "    </tr>\n",
       "    <tr>\n",
       "      <th>3</th>\n",
       "      <td>45QVC</td>\n",
       "      <td>Puri</td>\n",
       "      <td>POLYGON ((86.04044 20.52128, 86.10428 20.51697...</td>\n",
       "    </tr>\n",
       "    <tr>\n",
       "      <th>4</th>\n",
       "      <td>45QTB</td>\n",
       "      <td>Puri</td>\n",
       "      <td>POLYGON ((85.18307 19.88715, 85.18791 19.44951...</td>\n",
       "    </tr>\n",
       "    <tr>\n",
       "      <th>5</th>\n",
       "      <td>44QRG</td>\n",
       "      <td>Puri</td>\n",
       "      <td>POLYGON ((84.91143 19.85345, 84.90733 19.68132...</td>\n",
       "    </tr>\n",
       "    <tr>\n",
       "      <th>6</th>\n",
       "      <td>45QUB</td>\n",
       "      <td>Puri</td>\n",
       "      <td>POLYGON ((85.98431 19.89314, 85.96803 19.79995...</td>\n",
       "    </tr>\n",
       "  </tbody>\n",
       "</table>\n",
       "</div>"
      ],
      "text/plain": [
       "    name Region                                           geometry\n",
       "0  44QRH   Puri  POLYGON ((84.90927 19.76528, 84.84192 19.76656...\n",
       "1  45QTC   Puri  POLYGON ((85.18408 19.79882, 84.82081 19.79406...\n",
       "2  45QUC   Puri  POLYGON ((85.09075 19.79784, 85.08326 20.40715...\n",
       "3  45QVC   Puri  POLYGON ((86.04044 20.52128, 86.10428 20.51697...\n",
       "4  45QTB   Puri  POLYGON ((85.18307 19.88715, 85.18791 19.44951...\n",
       "5  44QRG   Puri  POLYGON ((84.91143 19.85345, 84.90733 19.68132...\n",
       "6  45QUB   Puri  POLYGON ((85.98431 19.89314, 85.96803 19.79995..."
      ]
     },
     "execution_count": 7,
     "metadata": {},
     "output_type": "execute_result"
    }
   ],
   "source": [
    "mgrs_aoi.to_file(\"data/mgrs/mgrs_aoi.fgb\")\n",
    "mgrs_aoi"
   ]
  },
  {
   "cell_type": "markdown",
   "id": "bd5a5329-3ffd-4de8-9e36-c3b7a5f47e60",
   "metadata": {},
   "source": [
    "## Use the datacube.py script to download imagery\n",
    "\n",
    "Each run of th datacube script will take an index as input, which is the index of the geometry within the input file. This is why we need to download the data in a loop.\n",
    "\n",
    "A list of date ranges can be specified. The script will look for the least cloudy Sentinel-2 scene for each date range, and match Sentinel-1 dates near the identified Sentinel-2 dates.\n",
    "\n",
    "The output folder can be specified as a local folder, or a bucket can be specified to upload the data to S3."
   ]
  },
  {
   "cell_type": "code",
   "execution_count": 8,
   "id": "a06149e2-116a-4a49-92a8-43aaa053bb43",
   "metadata": {},
   "outputs": [
    {
     "name": "stdout",
     "output_type": "stream",
     "text": [
      "Usage: datacube.py [OPTIONS]\n",
      "\n",
      "Options:\n",
      "  --sample TEXT      Location of MGRS tile sample\n",
      "  --index INTEGER    Index of MGRS tile from sample file that should be\n",
      "                     processed\n",
      "  --bucket TEXT      Specify the bucket for where to write the data.\n",
      "  --subset TEXT      For debugging, subset x and y to this pixel window as a\n",
      "                     comma separated string of 4 integers.\n",
      "  --localpath TEXT   If specified, this path will be used to write the tiles\n",
      "                     locally. Otherwise a temp dir will be used.\n",
      "  --dateranges TEXT  Comma separated list of date ranges, each provided as yy-\n",
      "                     mm-dd/yy-mm-dd.\n",
      "  --help             Show this message and exit.\n"
     ]
    }
   ],
   "source": [
    "# Print the help of the script to get a sense of the input parameters.\n",
    "! python scripts/datacube.py --help"
   ]
  },
  {
   "cell_type": "markdown",
   "id": "7b95c426-d82a-4973-94c0-c761affe9b9e",
   "metadata": {},
   "source": [
    "In the example below, we limit data volume to a pixel window of 1024x1024 pixels to speed up processing. With the subsetting, this should provide up to 4 image \"chips\" per MGRS tile and date range, depending on data availability. Remove the subset argument for a real use case, where all the data should be downloaded."
   ]
  },
  {
   "cell_type": "code",
   "execution_count": 9,
   "id": "6e176358-1c66-47be-8357-47f27e4359a1",
   "metadata": {},
   "outputs": [
    {
     "name": "stdout",
     "output_type": "stream",
     "text": [
      "0 name                                                    44QRH\n",
      "Region                                                   Puri\n",
      "geometry    POLYGON ((84.9092728354 19.7652787938, 84.8419...\n",
      "Name: 0, dtype: object\n",
      "Starting algorithm for MGRS tile 45QUB with index 0\n",
      "Processing data for date range 2020-01-01/2020-04-01\n",
      "Found 14 Sentinel-2 items\n",
      "EPSG code based on Sentinel-2 item:  32645\n",
      "Searching S1 in date range 2020-02-09/2020-02-15\n",
      "Found 1 Sentinel-1 items\n",
      "Most overlapped orbit:  descending\n",
      "Found 2 DEM items\n",
      "/home/tam/apps/miniforge3/envs/claymodel/lib/python3.11/site-packages/stackstac/prepare.py:408: UserWarning: The argument 'infer_datetime_format' is deprecated and will be removed in a future version. A strict version of it is now the default, see https://pandas.pydata.org/pdeps/0004-consistent-to-datetime-parsing.html. You can safely remove this argument.\n",
      "  times = pd.to_datetime(\n",
      "/home/tam/apps/miniforge3/envs/claymodel/lib/python3.11/site-packages/stackstac/prepare.py:408: UserWarning: The argument 'infer_datetime_format' is deprecated and will be removed in a future version. A strict version of it is now the default, see https://pandas.pydata.org/pdeps/0004-consistent-to-datetime-parsing.html. You can safely remove this argument.\n",
      "  times = pd.to_datetime(\n",
      "/home/tam/apps/miniforge3/envs/claymodel/lib/python3.11/site-packages/stackstac/prepare.py:408: UserWarning: The argument 'infer_datetime_format' is deprecated and will be removed in a future version. A strict version of it is now the default, see https://pandas.pydata.org/pdeps/0004-consistent-to-datetime-parsing.html. You can safely remove this argument.\n",
      "  times = pd.to_datetime(\n",
      "Subsetting to [1500, 1500, 2524, 2524]\n",
      "Writing tempfiles to  data/chips\n",
      "No bucket specified, skipping S3 sync.\n",
      "No bucket specified, skipping S3 sync.\n",
      "Processing data for date range 2021-06-01/2021-09-15\n",
      "Found 7 Sentinel-2 items\n",
      "EPSG code based on Sentinel-2 item:  32645\n",
      "Searching S1 in date range 2021-08-22/2021-08-28\n",
      "Found 4 Sentinel-1 items\n",
      "Most overlapped orbit:  descending\n",
      "Found 2 DEM items\n",
      "/home/tam/apps/miniforge3/envs/claymodel/lib/python3.11/site-packages/stackstac/prepare.py:408: UserWarning: The argument 'infer_datetime_format' is deprecated and will be removed in a future version. A strict version of it is now the default, see https://pandas.pydata.org/pdeps/0004-consistent-to-datetime-parsing.html. You can safely remove this argument.\n",
      "  times = pd.to_datetime(\n",
      "/home/tam/apps/miniforge3/envs/claymodel/lib/python3.11/site-packages/stackstac/prepare.py:408: UserWarning: The argument 'infer_datetime_format' is deprecated and will be removed in a future version. A strict version of it is now the default, see https://pandas.pydata.org/pdeps/0004-consistent-to-datetime-parsing.html. You can safely remove this argument.\n",
      "  times = pd.to_datetime(\n",
      "/home/tam/apps/miniforge3/envs/claymodel/lib/python3.11/site-packages/stackstac/prepare.py:408: UserWarning: The argument 'infer_datetime_format' is deprecated and will be removed in a future version. A strict version of it is now the default, see https://pandas.pydata.org/pdeps/0004-consistent-to-datetime-parsing.html. You can safely remove this argument.\n",
      "  times = pd.to_datetime(\n",
      "Subsetting to [1500, 1500, 2524, 2524]\n",
      "Writing tempfiles to  data/chips\n",
      "Too much cloud coverage\n",
      "No bucket specified, skipping S3 sync.\n",
      "No bucket specified, skipping S3 sync.\n",
      "1 name                                                    45QTC\n",
      "Region                                                   Puri\n",
      "geometry    POLYGON ((85.1840761005 19.798817712, 84.82081...\n",
      "Name: 1, dtype: object\n",
      "Starting algorithm for MGRS tile 45QVC with index 1\n",
      "Processing data for date range 2020-01-01/2020-04-01\n",
      "Found 27 Sentinel-2 items\n",
      "EPSG code based on Sentinel-2 item:  32645\n",
      "Searching S1 in date range 2020-02-11/2020-02-17\n",
      "Found 1 Sentinel-1 items\n",
      "Most overlapped orbit:  descending\n",
      "Found 3 DEM items\n",
      "/home/tam/apps/miniforge3/envs/claymodel/lib/python3.11/site-packages/stackstac/prepare.py:408: UserWarning: The argument 'infer_datetime_format' is deprecated and will be removed in a future version. A strict version of it is now the default, see https://pandas.pydata.org/pdeps/0004-consistent-to-datetime-parsing.html. You can safely remove this argument.\n",
      "  times = pd.to_datetime(\n",
      "/home/tam/apps/miniforge3/envs/claymodel/lib/python3.11/site-packages/stackstac/prepare.py:408: UserWarning: The argument 'infer_datetime_format' is deprecated and will be removed in a future version. A strict version of it is now the default, see https://pandas.pydata.org/pdeps/0004-consistent-to-datetime-parsing.html. You can safely remove this argument.\n",
      "  times = pd.to_datetime(\n",
      "/home/tam/apps/miniforge3/envs/claymodel/lib/python3.11/site-packages/stackstac/prepare.py:408: UserWarning: The argument 'infer_datetime_format' is deprecated and will be removed in a future version. A strict version of it is now the default, see https://pandas.pydata.org/pdeps/0004-consistent-to-datetime-parsing.html. You can safely remove this argument.\n",
      "  times = pd.to_datetime(\n",
      "Subsetting to [1500, 1500, 2524, 2524]\n",
      "Writing tempfiles to  data/chips\n",
      "No bucket specified, skipping S3 sync.\n",
      "No bucket specified, skipping S3 sync.\n",
      "Processing data for date range 2021-06-01/2021-09-15\n",
      "Found 13 Sentinel-2 items\n",
      "EPSG code based on Sentinel-2 item:  32645\n",
      "Searching S1 in date range 2021-06-03/2021-06-09\n",
      "Found 2 Sentinel-1 items\n",
      "Most overlapped orbit:  descending\n",
      "Found 4 DEM items\n",
      "/home/tam/apps/miniforge3/envs/claymodel/lib/python3.11/site-packages/stackstac/prepare.py:408: UserWarning: The argument 'infer_datetime_format' is deprecated and will be removed in a future version. A strict version of it is now the default, see https://pandas.pydata.org/pdeps/0004-consistent-to-datetime-parsing.html. You can safely remove this argument.\n",
      "  times = pd.to_datetime(\n",
      "/home/tam/apps/miniforge3/envs/claymodel/lib/python3.11/site-packages/stackstac/prepare.py:408: UserWarning: The argument 'infer_datetime_format' is deprecated and will be removed in a future version. A strict version of it is now the default, see https://pandas.pydata.org/pdeps/0004-consistent-to-datetime-parsing.html. You can safely remove this argument.\n",
      "  times = pd.to_datetime(\n",
      "/home/tam/apps/miniforge3/envs/claymodel/lib/python3.11/site-packages/stackstac/prepare.py:408: UserWarning: The argument 'infer_datetime_format' is deprecated and will be removed in a future version. A strict version of it is now the default, see https://pandas.pydata.org/pdeps/0004-consistent-to-datetime-parsing.html. You can safely remove this argument.\n",
      "  times = pd.to_datetime(\n",
      "Subsetting to [1500, 1500, 2524, 2524]\n",
      "Writing tempfiles to  data/chips\n",
      "No bucket specified, skipping S3 sync.\n",
      "Too much cloud coverage\n",
      "No bucket specified, skipping S3 sync.\n",
      "2 name                                                    45QUC\n",
      "Region                                                   Puri\n",
      "geometry    POLYGON ((85.0907496721 19.7978447286, 85.0832...\n",
      "Name: 2, dtype: object\n",
      "Starting algorithm for MGRS tile 45QUC with index 2\n",
      "Processing data for date range 2020-01-01/2020-04-01\n",
      "Found 16 Sentinel-2 items\n",
      "EPSG code based on Sentinel-2 item:  32645\n",
      "Searching S1 in date range 2020-02-09/2020-02-15\n",
      "Found 2 Sentinel-1 items\n",
      "Most overlapped orbit:  descending\n",
      "Found 4 DEM items\n",
      "/home/tam/apps/miniforge3/envs/claymodel/lib/python3.11/site-packages/stackstac/prepare.py:408: UserWarning: The argument 'infer_datetime_format' is deprecated and will be removed in a future version. A strict version of it is now the default, see https://pandas.pydata.org/pdeps/0004-consistent-to-datetime-parsing.html. You can safely remove this argument.\n",
      "  times = pd.to_datetime(\n",
      "/home/tam/apps/miniforge3/envs/claymodel/lib/python3.11/site-packages/stackstac/prepare.py:408: UserWarning: The argument 'infer_datetime_format' is deprecated and will be removed in a future version. A strict version of it is now the default, see https://pandas.pydata.org/pdeps/0004-consistent-to-datetime-parsing.html. You can safely remove this argument.\n",
      "  times = pd.to_datetime(\n",
      "/home/tam/apps/miniforge3/envs/claymodel/lib/python3.11/site-packages/stackstac/prepare.py:408: UserWarning: The argument 'infer_datetime_format' is deprecated and will be removed in a future version. A strict version of it is now the default, see https://pandas.pydata.org/pdeps/0004-consistent-to-datetime-parsing.html. You can safely remove this argument.\n",
      "  times = pd.to_datetime(\n",
      "Subsetting to [1500, 1500, 2524, 2524]\n",
      "^C\n",
      "\n",
      "Aborted!\n",
      "3 name                                                    45QVC\n",
      "Region                                                   Puri\n",
      "geometry    POLYGON ((86.04044162970094 20.52127966663557,...\n",
      "Name: 3, dtype: object\n"
     ]
    },
    {
     "name": "stderr",
     "output_type": "stream",
     "text": [
      "\n",
      "KeyboardInterrupt\n",
      "\n"
     ]
    }
   ],
   "source": [
    "for index, row in mgrs_aoi.iterrows():\n",
    "    print(index, row)\n",
    "    ! python scripts/datacube.py --sample data/mgrs/mgrs_aoi.fgb --subset 1500,1500,2524,2524 --localpath data/chips  --index {index} --dateranges 2020-01-01/2020-04-01,2021-06-01/2021-09-15"
   ]
  },
  {
   "cell_type": "markdown",
   "id": "1f640c20-87b3-445b-9de8-e91670562df1",
   "metadata": {},
   "source": [
    "## Create the embeddings for each training chip\n",
    "\n",
    "The checkpoints can be downloaded from huggingface."
   ]
  },
  {
   "cell_type": "code",
   "execution_count": 10,
   "id": "7eaf0d51-69e5-4c49-a7e1-80a3333c9dc8",
   "metadata": {},
   "outputs": [
    {
     "name": "stdout",
     "output_type": "stream",
     "text": [
      "--2024-01-12 16:28:56--  https://huggingface.co/made-with-clay/Clay/resolve/main/Clay_v0.1_epoch-24_val-loss-0.46.ckpt?download=true\n",
      "Resolving huggingface.co (huggingface.co)... 2600:9000:2660:c400:17:b174:6d00:93a1, 2600:9000:2660:6400:17:b174:6d00:93a1, 2600:9000:2660:de00:17:b174:6d00:93a1, ...\n",
      "Connecting to huggingface.co (huggingface.co)|2600:9000:2660:c400:17:b174:6d00:93a1|:443... connected.\n",
      "HTTP request sent, awaiting response... 302 Found\n",
      "Location: https://cdn-lfs-us-1.huggingface.co/repos/9e/5f/9e5f70717de49e5e8fb94cc66c7c40e24e6800ae6dbf377099154c19eafdc5f6/b5efd4073b0602e5625cce629756abfd0f10fcb6fdfa9aee02088ea735d253cd?response-content-disposition=attachment%3B+filename*%3DUTF-8%27%27Clay_v0.1_epoch-24_val-loss-0.46.ckpt%3B+filename%3D%22Clay_v0.1_epoch-24_val-loss-0.46.ckpt%22%3B&Expires=1705336139&Policy=eyJTdGF0ZW1lbnQiOlt7IkNvbmRpdGlvbiI6eyJEYXRlTGVzc1RoYW4iOnsiQVdTOkVwb2NoVGltZSI6MTcwNTMzNjEzOX19LCJSZXNvdXJjZSI6Imh0dHBzOi8vY2RuLWxmcy11cy0xLmh1Z2dpbmdmYWNlLmNvL3JlcG9zLzllLzVmLzllNWY3MDcxN2RlNDllNWU4ZmI5NGNjNjZjN2M0MGUyNGU2ODAwYWU2ZGJmMzc3MDk5MTU0YzE5ZWFmZGM1ZjYvYjVlZmQ0MDczYjA2MDJlNTYyNWNjZTYyOTc1NmFiZmQwZjEwZmNiNmZkZmE5YWVlMDIwODhlYTczNWQyNTNjZD9yZXNwb25zZS1jb250ZW50LWRpc3Bvc2l0aW9uPSoifV19&Signature=b9yGYVG-EkBlsnKvQ1d4wUJmc7-PqHlD0OOORo6kQlRJ3P6Mg1o12jjiTNtg9z9Ob7fIJeOR4wksuf7zxFSZaHFG2sGtdKR2saLVUAau76KTL1QcLu7bT6Bv7H8lam16SpSO3xneQrJ3o44Rwc-0C4lf35m%7EME2%7El0HkbOSPGhnqI8kKT1XPyvZiE9lVLP0JM2hYyvGZWkVa0Q35naDjtPRSBe3dNGlTPXpX4bjNX9poM5B5Aujc2nthbufB0pw5Q6Bq%7EuXfXXKXHwNdBR2wtIBh2AxO51tEHg5n5AdfypUNNxpLThhMRGDiF%7E5csbmXsQxvRFF7o%7EXId45Yy-BHSA__&Key-Pair-Id=KCD77M1F0VK2B [following]\n",
      "--2024-01-12 16:28:59--  https://cdn-lfs-us-1.huggingface.co/repos/9e/5f/9e5f70717de49e5e8fb94cc66c7c40e24e6800ae6dbf377099154c19eafdc5f6/b5efd4073b0602e5625cce629756abfd0f10fcb6fdfa9aee02088ea735d253cd?response-content-disposition=attachment%3B+filename*%3DUTF-8%27%27Clay_v0.1_epoch-24_val-loss-0.46.ckpt%3B+filename%3D%22Clay_v0.1_epoch-24_val-loss-0.46.ckpt%22%3B&Expires=1705336139&Policy=eyJTdGF0ZW1lbnQiOlt7IkNvbmRpdGlvbiI6eyJEYXRlTGVzc1RoYW4iOnsiQVdTOkVwb2NoVGltZSI6MTcwNTMzNjEzOX19LCJSZXNvdXJjZSI6Imh0dHBzOi8vY2RuLWxmcy11cy0xLmh1Z2dpbmdmYWNlLmNvL3JlcG9zLzllLzVmLzllNWY3MDcxN2RlNDllNWU4ZmI5NGNjNjZjN2M0MGUyNGU2ODAwYWU2ZGJmMzc3MDk5MTU0YzE5ZWFmZGM1ZjYvYjVlZmQ0MDczYjA2MDJlNTYyNWNjZTYyOTc1NmFiZmQwZjEwZmNiNmZkZmE5YWVlMDIwODhlYTczNWQyNTNjZD9yZXNwb25zZS1jb250ZW50LWRpc3Bvc2l0aW9uPSoifV19&Signature=b9yGYVG-EkBlsnKvQ1d4wUJmc7-PqHlD0OOORo6kQlRJ3P6Mg1o12jjiTNtg9z9Ob7fIJeOR4wksuf7zxFSZaHFG2sGtdKR2saLVUAau76KTL1QcLu7bT6Bv7H8lam16SpSO3xneQrJ3o44Rwc-0C4lf35m%7EME2%7El0HkbOSPGhnqI8kKT1XPyvZiE9lVLP0JM2hYyvGZWkVa0Q35naDjtPRSBe3dNGlTPXpX4bjNX9poM5B5Aujc2nthbufB0pw5Q6Bq%7EuXfXXKXHwNdBR2wtIBh2AxO51tEHg5n5AdfypUNNxpLThhMRGDiF%7E5csbmXsQxvRFF7o%7EXId45Yy-BHSA__&Key-Pair-Id=KCD77M1F0VK2B\n",
      "Resolving cdn-lfs-us-1.huggingface.co (cdn-lfs-us-1.huggingface.co)... 2600:9000:2660:4e00:17:9a40:4dc0:93a1, 2600:9000:2660:b000:17:9a40:4dc0:93a1, 2600:9000:2660:ae00:17:9a40:4dc0:93a1, ...\n",
      "Connecting to cdn-lfs-us-1.huggingface.co (cdn-lfs-us-1.huggingface.co)|2600:9000:2660:4e00:17:9a40:4dc0:93a1|:443... connected.\n",
      "HTTP request sent, awaiting response... 200 OK\n",
      "Length: 510924971 (487M) [binary/octet-stream]\n",
      "Saving to: ‘data/checkpoints/Clay_v0.1_epoch-24_val-loss-0.46.ckpt’\n",
      "\n",
      "data/checkpoints/Cl 100%[===================>] 487.26M  1.37MB/s    in 6m 44s  \n",
      "\n",
      "2024-01-12 16:35:44 (1.21 MB/s) - ‘data/checkpoints/Clay_v0.1_epoch-24_val-loss-0.46.ckpt’ saved [510924971/510924971]\n",
      "\n"
     ]
    }
   ],
   "source": [
    "! wget https://huggingface.co/made-with-clay/Clay/resolve/main/Clay_v0.1_epoch-24_val-loss-0.46.ckpt?download=true -O data/checkpoints/Clay_v0.1_epoch-24_val-loss-0.46.ckpt"
   ]
  },
  {
   "cell_type": "markdown",
   "id": "46ddcaa2-34d0-44bd-9512-40ed2374f893",
   "metadata": {},
   "source": [
    "After downloading the model weights, embeddings can be created with just one command."
   ]
  },
  {
   "cell_type": "code",
   "execution_count": 11,
   "id": "91f194ad-781c-4fa3-bdd8-6d1af29b23b5",
   "metadata": {},
   "outputs": [
    {
     "name": "stdout",
     "output_type": "stream",
     "text": [
      "W&B disabled.\n",
      "Seed set to 42\n",
      "Using 16bit Automatic Mixed Precision (AMP)\n",
      "GPU available: True (cuda), used: True\n",
      "TPU available: False, using: 0 TPU cores\n",
      "IPU available: False, using: 0 IPUs\n",
      "HPU available: False, using: 0 HPUs\n",
      "[rank: 0] Seed set to 42\n",
      "Initializing distributed: GLOBAL_RANK: 0, MEMBER: 1/1\n",
      "----------------------------------------------------------------------------------------------------\n",
      "distributed_backend=nccl\n",
      "All distributed processes registered. Starting with 1 processes\n",
      "----------------------------------------------------------------------------------------------------\n",
      "\n",
      "Total number of chips: 28\n",
      "Restoring states from the checkpoint path at data/checkpoints/Clay_v0.1_epoch-24_val-loss-0.46.ckpt\n",
      "LOCAL_RANK: 0 - CUDA_VISIBLE_DEVICES: [0]\n",
      "Loaded model weights from the checkpoint at data/checkpoints/Clay_v0.1_epoch-24_val-loss-0.46.ckpt\n",
      "Predicting DataLoader 0: 100%|██████████████████| 14/14 [00:02<00:00,  6.89it/s]Saved 7 rows of embeddings of shape (768,) to /home/tam/Documents/repos/model/data/embeddings/45QUB_20200328_20210825_v001.gpq\n",
      "Saved 8 rows of embeddings of shape (768,) to /home/tam/Documents/repos/model/data/embeddings/45QTB_20200328_20210815_v001.gpq\n",
      "Saved 8 rows of embeddings of shape (768,) to /home/tam/Documents/repos/model/data/embeddings/44QRG_20200328_20210815_v001.gpq\n",
      "Saved 1 rows of embeddings of shape (768,) to /home/tam/Documents/repos/model/data/embeddings/45QVC_20210822_20210822_v001.gpq\n",
      "Saved 2 rows of embeddings of shape (768,) to /home/tam/Documents/repos/model/data/embeddings/44QRH_20200328_20200328_v001.gpq\n",
      "Saved 2 rows of embeddings of shape (768,) to /home/tam/Documents/repos/model/data/embeddings/45QTC_20200328_20200328_v001.gpq\n",
      "Predicting DataLoader 0: 100%|██████████████████| 14/14 [00:02<00:00,  6.77it/s]\n",
      "Done!\n"
     ]
    }
   ],
   "source": [
    "! wandb disabled\n",
    "! python trainer.py predict --ckpt_path=data/checkpoints/Clay_v0.1_epoch-24_val-loss-0.46.ckpt \\\n",
    "                            --trainer.precision=16-mixed \\\n",
    "                            --data.data_dir=/home/tam/Desktop/aoitiles \\\n",
    "                            --data.batch_size=2 \\\n",
    "                            --data.num_workers=8"
   ]
  },
  {
   "cell_type": "code",
   "execution_count": null,
   "id": "504a461a-2e1e-4155-ae0d-2a17147410aa",
   "metadata": {},
   "outputs": [],
   "source": []
  }
 ],
 "metadata": {
  "kernelspec": {
   "display_name": "claymodel",
   "language": "python",
   "name": "claymodel"
  },
  "language_info": {
   "codemirror_mode": {
    "name": "ipython",
    "version": 3
   },
   "file_extension": ".py",
   "mimetype": "text/x-python",
   "name": "python",
   "nbconvert_exporter": "python",
   "pygments_lexer": "ipython3",
   "version": "3.11.6"
  }
 },
 "nbformat": 4,
 "nbformat_minor": 5
}
