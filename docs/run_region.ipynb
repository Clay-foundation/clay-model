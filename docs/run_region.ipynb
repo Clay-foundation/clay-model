{
 "cells": [
  {
   "cell_type": "markdown",
   "id": "c67aed17-49b0-4cc3-9bcb-6110c05ff809",
   "metadata": {},
   "source": [
    "# How to run clay over custom AOIs\n",
    "\n",
    "This script shows in a few simple steps how the clay model can be run for custom AOIs and over custom date ranges.\n",
    "\n",
    "## Download and open global list of MGRS tiles"
   ]
  },
  {
   "cell_type": "code",
   "execution_count": null,
   "id": "b11e3a6a-3fa9-4c36-9f02-8991f7b4ec8e",
   "metadata": {},
   "outputs": [],
   "source": [
    "import os\n",
    "from pathlib import Path\n",
    "\n",
    "# The repo home is our working directory.\n",
    "wd = Path.cwd().parent\n",
    "os.chdir(wd)\n",
    "# Ensure data directories exist\n",
    "Path(\"data/mgrs\").mkdir(exist_ok=True)\n",
    "Path(\"data/chips\").mkdir(exist_ok=True)\n",
    "Path(\"data/checkpoints\").mkdir(exist_ok=True)\n",
    "Path(\"data/embeddings\").mkdir(exist_ok=True)"
   ]
  },
  {
   "cell_type": "code",
   "execution_count": null,
   "id": "ac5678f0-1f40-42c2-853f-f1905f4b2cdb",
   "metadata": {},
   "outputs": [],
   "source": [
    "# get the MGRS grid\n",
    "mgrs_file = Path(\"data/mgrs/mgrs_full.fgb\")\n",
    "if not mgrs_file.exists():\n",
    "    print(\"Downloading MGRS grid...\")\n",
    "    !wget https://clay-mgrs-samples.s3.amazonaws.com/mgrs_full.fgb \\\n",
    "        -O data/mgrs/mgrs_full.fgb\n",
    "    print(\"Done.\")"
   ]
  },
  {
   "cell_type": "code",
   "execution_count": null,
   "id": "beb8d805-38c6-4b08-bff8-fdb59f598535",
   "metadata": {},
   "outputs": [],
   "source": [
    "import geopandas as gpd\n",
    "\n",
    "mgrs = gpd.read_file(\"data/mgrs/mgrs_full.fgb\")\n",
    "print(f\"Loaded {len(mgrs)} MGRS grid cells.\")"
   ]
  },
  {
   "cell_type": "markdown",
   "id": "a5211112-d169-40b4-83af-1a7cc40c2439",
   "metadata": {},
   "source": [
    "## Create a Geopandas dataframe with AOI\n",
    "\n",
    "> You can specify a geojson of a Point or Polygon. \n",
    "\n",
    "This example uses a string with a point Puri, India."
   ]
  },
  {
   "cell_type": "code",
   "execution_count": null,
   "id": "2cb85d85-1eec-4927-8c53-71e68033a942",
   "metadata": {},
   "outputs": [],
   "source": [
    "aoi_src = \"\"\"{\n",
    "  \"type\": \"FeatureCollection\",\n",
    "  \"features\": [\n",
    "    {\n",
    "      \"type\": \"Feature\",\n",
    "      \"properties\": {},\n",
    "      \"geometry\": {\n",
    "        \"coordinates\": [\n",
    "          85.82371323098533,\n",
    "          19.80224809538211\n",
    "        ],\n",
    "        \"type\": \"Point\"\n",
    "      }\n",
    "    }\n",
    "  ]\n",
    "}\"\"\"\n",
    "aoi = gpd.read_file(aoi_src, driver=\"GeoJSON\")"
   ]
  },
  {
   "cell_type": "markdown",
   "id": "b1f838fa-4c18-4934-b6cc-dff4702145c9",
   "metadata": {},
   "source": [
    "## Intersect the AOI with the MGRS tile layer\n",
    "\n",
    "This will select the MGRS tiles that intersect with your AOI. The whole tile will be downloaded. Adjacent MGRS tiles do also overlap in most cases, so you will download some data that is not in your AOI.\n",
    "\n",
    "\n",
    "Store the intersected tiles in a file, it will be used by the `datacube.py` script."
   ]
  },
  {
   "cell_type": "code",
   "execution_count": null,
   "id": "7ba0c7c2-9937-461a-8c48-d9c607e93bd0",
   "metadata": {},
   "outputs": [],
   "source": [
    "mgrs_aoi = mgrs.sjoin(aoi)\n",
    "mgrs_aoi = mgrs_aoi.rename(columns={\"Name\": \"name\"}).reset_index(drop=True)"
   ]
  },
  {
   "cell_type": "code",
   "execution_count": null,
   "id": "74d00341",
   "metadata": {},
   "outputs": [],
   "source": [
    "import contextily as ctx\n",
    "import matplotlib.pyplot as plt\n",
    "\n",
    "# print number of mgrs_aoi, and the area of the aoi and mgrs_aoi\n",
    "print(f\"Number of MGRS tiles covering AOI: {len(mgrs_aoi)}\")\n",
    "aoi_area = aoi.to_crs(epsg=3857).area[0] / 1e6\n",
    "mgrs_area = mgrs_aoi.to_crs(epsg=3857).area.sum() / 1e6\n",
    "print(f\"Area of AOI: {aoi_area:.2f} sq km\")\n",
    "print(f\"Area of MGRS tiles covering AOI: {mgrs_area:.2f} sq km\")\n",
    "print(f\"Percentage of AOI covered by MGRS tiles: {100*mgrs_area/aoi_area:.2f}%\")\n",
    "\n",
    "\n",
    "fig, ax = plt.subplots(figsize=(10, 10))\n",
    "mgrs_aoi.to_crs(epsg=3857).plot(ax=ax, color=\"blue\", alpha=0.5, label=\"MGRS\")\n",
    "for idx, row in mgrs_aoi.to_crs(epsg=3857).iterrows():\n",
    "    x = float(row.geometry.centroid.x)\n",
    "    y = float(row.geometry.centroid.y)\n",
    "    ax.annotate(text=row[\"name\"], xy=(x, y), color=\"white\")\n",
    "aoi.to_crs(epsg=3857).plot(ax=ax, color=\"red\", alpha=0.5, label=\"AOI\")\n",
    "x = float(aoi.to_crs(epsg=3857).geometry.centroid.x)\n",
    "y = float(aoi.to_crs(epsg=3857).geometry.centroid.y)\n",
    "ax.annotate(text=\"AOI\", xy=(x, y), color=\"white\")\n",
    "ctx.add_basemap(ax, source=ctx.providers.OpenStreetMap.Mapnik)\n",
    "ax.set_axis_off()\n",
    "plt.show()"
   ]
  },
  {
   "cell_type": "code",
   "execution_count": null,
   "id": "045a0e36-025a-4381-b633-85ab236b1450",
   "metadata": {},
   "outputs": [],
   "source": [
    "mgrs_aoi.to_file(\"data/mgrs/mgrs_aoi.fgb\")\n",
    "mgrs_aoi.head()"
   ]
  },
  {
   "cell_type": "markdown",
   "id": "bd5a5329-3ffd-4de8-9e36-c3b7a5f47e60",
   "metadata": {},
   "source": [
    "## Use the datacube.py script to download imagery\n",
    "\n",
    "Each run of th datacube script will take an index as input, which is the index of the geometry within the input file. This is why we need to download the data in a loop.\n",
    "\n",
    "A list of date ranges can be specified. The script will look for the least cloudy Sentinel-2 scene for each date range, and match Sentinel-1 dates near the identified Sentinel-2 dates.\n",
    "\n",
    "The output folder can be specified as a local folder, or a bucket can be specified to upload the data to S3."
   ]
  },
  {
   "cell_type": "markdown",
   "id": "7f91939a",
   "metadata": {},
   "source": [
    "Note: You may need to setup a Planetary Computer access key. Get in on the [PC developer portal](https://planetarycomputer.developer.azure-api.net/) and set it with \n",
    "```bash\n",
    "planetarycomputer configure\n",
    "```"
   ]
  },
  {
   "cell_type": "code",
   "execution_count": null,
   "id": "a06149e2-116a-4a49-92a8-43aaa053bb43",
   "metadata": {},
   "outputs": [],
   "source": [
    "# Print the help of the script to get a sense of the input parameters.\n",
    "! python scripts/datacube.py --help"
   ]
  },
  {
   "cell_type": "markdown",
   "id": "7b95c426-d82a-4973-94c0-c761affe9b9e",
   "metadata": {},
   "source": [
    "In the example below, we limit data volume to a pixel window of 1024x1024 pixels to speed up processing. With the subsetting, this should provide up to 4 image \"chips\" per MGRS tile and date range, depending on data availability. Remove the subset argument for a real use case, where all the data should be downloaded."
   ]
  },
  {
   "cell_type": "code",
   "execution_count": null,
   "id": "6e176358-1c66-47be-8357-47f27e4359a1",
   "metadata": {},
   "outputs": [],
   "source": [
    "for index, row in mgrs_aoi.iterrows():\n",
    "    print(index, row)\n",
    "    ! python scripts/datacube.py \\\n",
    "        --sample data/mgrs/mgrs_aoi.fgb \\\n",
    "        --localpath data/chips  \\\n",
    "        --index {index} \\\n",
    "        --dateranges \"2018-01-01/2018-04-01,2023-06-01/2023-12-15\"\n",
    "    # --subset 1500,1500,2524,2524 \\"
   ]
  },
  {
   "cell_type": "markdown",
   "id": "1f640c20-87b3-445b-9de8-e91670562df1",
   "metadata": {},
   "source": [
    "## Create the embeddings for each training chip\n",
    "\n",
    "The checkpoints can be downloaded from huggingface."
   ]
  },
  {
   "cell_type": "code",
   "execution_count": null,
   "id": "7eaf0d51-69e5-4c49-a7e1-80a3333c9dc8",
   "metadata": {},
   "outputs": [],
   "source": [
    "model_file = Path(\"data/checkpoints/Clay_v0.1_epoch-24_val-loss-0.46.ckpt\")\n",
    "model_url = \"https://huggingface.co/made-with-clay/Clay/resolve/main/Clay_v0.1_epoch-24_val-loss-0.46.ckpt\"\n",
    "if not model_file.exists():\n",
    "    print(\"Downloading model...\")\n",
    "    !wget $model_url \\\n",
    "        -O $model_file\n",
    "    print(\"Done.\")"
   ]
  },
  {
   "cell_type": "markdown",
   "id": "46ddcaa2-34d0-44bd-9512-40ed2374f893",
   "metadata": {},
   "source": [
    "After downloading the model weights, embeddings can be created with just one command."
   ]
  },
  {
   "cell_type": "code",
   "execution_count": null,
   "id": "91f194ad-781c-4fa3-bdd8-6d1af29b23b5",
   "metadata": {},
   "outputs": [],
   "source": [
    "! wandb disabled\n",
    "! python trainer.py predict \\\n",
    "    --ckpt_path=data/checkpoints/Clay_v0.1_epoch-24_val-loss-0.46.ckpt \\\n",
    "    --trainer.precision=16-mixed \\\n",
    "    --data.data_dir=data/chips"
   ]
  },
  {
   "cell_type": "markdown",
   "id": "82283531",
   "metadata": {},
   "source": [
    "You should see your embeddings files in the folder `data/embeddings`. \n",
    "\n",
    "> Note that `chips` are stored one per file (many per MGRS tile), but `embeddings` are stored in a single file per MGRS tile. See [Documentation](https://clay-foundation.github.io/model/model_embeddings.html).\n"
   ]
  },
  {
   "cell_type": "markdown",
   "id": "e344941d",
   "metadata": {},
   "source": []
  }
 ],
 "metadata": {
  "kernelspec": {
   "display_name": "claymodel",
   "language": "python",
   "name": "python3"
  },
  "language_info": {
   "codemirror_mode": {
    "name": "ipython",
    "version": 3
   },
   "file_extension": ".py",
   "mimetype": "text/x-python",
   "name": "python",
   "nbconvert_exporter": "python",
   "pygments_lexer": "ipython3",
   "version": "3.11.7"
  }
 },
 "nbformat": 4,
 "nbformat_minor": 5
}
