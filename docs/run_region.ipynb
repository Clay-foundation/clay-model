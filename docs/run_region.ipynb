{
 "cells": [
  {
   "cell_type": "code",
   "execution_count": 19,
   "metadata": {},
   "outputs": [
    {
     "name": "stdout",
     "output_type": "stream",
     "text": [
      "Loaded 56686 MGRS grid cells.\n"
     ]
    }
   ],
   "source": [
    "import geopandas as gpd\n",
    "import pandas as pd\n",
    "from shapely import box\n",
    "\n",
    "\n",
    "mgrs = gpd.read_file(\"../data/mgrs/mgrs_full.fgb\")\n",
    "print(f\"Loaded {len(mgrs)} MGRS grid cells.\")\n"
   ]
  },
  {
   "cell_type": "code",
   "execution_count": 33,
   "metadata": {},
   "outputs": [],
   "source": [
    "Bali = {\n",
    "  \"type\": \"FeatureCollection\",\n",
    "  \"features\": [\n",
    "    {\n",
    "      \"type\": \"Feature\",\n",
    "      \"properties\": {},\n",
    "      \"geometry\": {\n",
    "        \"coordinates\": [\n",
    "          [\n",
    "            [\n",
    "              115.25786880742186,\n",
    "              -8.91782452701942\n",
    "            ],\n",
    "            [\n",
    "              115.62994751933928,\n",
    "              -8.864911327853008\n",
    "            ],\n",
    "            [\n",
    "              115.75679253476551,\n",
    "              -8.499883644265438\n",
    "            ],\n",
    "            [\n",
    "              115.77088642536938,\n",
    "              -8.268425611230953\n",
    "            ],\n",
    "            [\n",
    "              115.33961337291942,\n",
    "              -8.02008471521799\n",
    "            ],\n",
    "            [\n",
    "              115.09719845454964,\n",
    "              -7.953090213823472\n",
    "            ],\n",
    "            [\n",
    "              114.94498443603698,\n",
    "              -8.081486649352641\n",
    "            ],\n",
    "            [\n",
    "              114.63210006465204,\n",
    "              -8.03124939498386\n",
    "            ],\n",
    "            [\n",
    "              114.39250392440204,\n",
    "              -7.986588838340552\n",
    "            ],\n",
    "            [\n",
    "              114.31921569326715,\n",
    "              -8.340945335516594\n",
    "            ],\n",
    "            [\n",
    "              114.55881183351715,\n",
    "              -8.522185531989308\n",
    "            ],\n",
    "            [\n",
    "              114.82941453309331,\n",
    "              -8.555635923696315\n",
    "            ],\n",
    "            [\n",
    "              114.96471588288063,\n",
    "              -8.859341073228563\n",
    "            ],\n",
    "            [\n",
    "              115.25786880742186,\n",
    "              -8.91782452701942\n",
    "            ]\n",
    "          ]\n",
    "        ],\n",
    "        \"type\": \"Polygon\"\n",
    "      }\n",
    "    }\n",
    "  ]\n",
    "}"
   ]
  },
  {
   "cell_type": "code",
   "execution_count": 34,
   "metadata": {},
   "outputs": [],
   "source": [
    "#make geojson a geoDataFrame\n",
    "aoi = gpd.GeoDataFrame.from_features(Bali['features'])\n",
    "aoi.crs = \"EPSG:4326\"\n",
    "mgrs_aoi = mgrs.overlay(aoi)\n"
   ]
  },
  {
   "cell_type": "code",
   "execution_count": 35,
   "metadata": {},
   "outputs": [
    {
     "data": {
      "text/html": [
       "<div>\n",
       "<style scoped>\n",
       "    .dataframe tbody tr th:only-of-type {\n",
       "        vertical-align: middle;\n",
       "    }\n",
       "\n",
       "    .dataframe tbody tr th {\n",
       "        vertical-align: top;\n",
       "    }\n",
       "\n",
       "    .dataframe thead th {\n",
       "        text-align: right;\n",
       "    }\n",
       "</style>\n",
       "<table border=\"1\" class=\"dataframe\">\n",
       "  <thead>\n",
       "    <tr style=\"text-align: right;\">\n",
       "      <th></th>\n",
       "      <th>name</th>\n",
       "      <th>geometry</th>\n",
       "    </tr>\n",
       "  </thead>\n",
       "  <tbody>\n",
       "    <tr>\n",
       "      <th>0</th>\n",
       "      <td>49LHL</td>\n",
       "      <td>POLYGON ((114.71716 -8.12502, 114.72125 -8.542...</td>\n",
       "    </tr>\n",
       "    <tr>\n",
       "      <th>1</th>\n",
       "      <td>50LKR</td>\n",
       "      <td>POLYGON ((115.27352 -8.13836, 115.26998 -8.916...</td>\n",
       "    </tr>\n",
       "    <tr>\n",
       "      <th>2</th>\n",
       "      <td>49MHM</td>\n",
       "      <td>POLYGON ((114.71798 -8.21330, 114.34500 -8.216...</td>\n",
       "    </tr>\n",
       "    <tr>\n",
       "      <th>3</th>\n",
       "      <td>50MKS</td>\n",
       "      <td>POLYGON ((115.27314 -8.22679, 114.34389 -8.221...</td>\n",
       "    </tr>\n",
       "    <tr>\n",
       "      <th>4</th>\n",
       "      <td>50MLS</td>\n",
       "      <td>POLYGON ((115.18438 -8.22640, 115.18544 -7.977...</td>\n",
       "    </tr>\n",
       "    <tr>\n",
       "      <th>5</th>\n",
       "      <td>50LLR</td>\n",
       "      <td>POLYGON ((115.54638 -8.13915, 115.77089 -8.268...</td>\n",
       "    </tr>\n",
       "  </tbody>\n",
       "</table>\n",
       "</div>"
      ],
      "text/plain": [
       "    name                                           geometry\n",
       "0  49LHL  POLYGON ((114.71716 -8.12502, 114.72125 -8.542...\n",
       "1  50LKR  POLYGON ((115.27352 -8.13836, 115.26998 -8.916...\n",
       "2  49MHM  POLYGON ((114.71798 -8.21330, 114.34500 -8.216...\n",
       "3  50MKS  POLYGON ((115.27314 -8.22679, 114.34389 -8.221...\n",
       "4  50MLS  POLYGON ((115.18438 -8.22640, 115.18544 -7.977...\n",
       "5  50LLR  POLYGON ((115.54638 -8.13915, 115.77089 -8.268..."
      ]
     },
     "execution_count": 35,
     "metadata": {},
     "output_type": "execute_result"
    }
   ],
   "source": [
    "mgrs_aoi = mgrs_aoi.rename(columns={\"Name\": \"name\"})\n",
    "mgrs_aoi"
   ]
  },
  {
   "cell_type": "code",
   "execution_count": 36,
   "metadata": {},
   "outputs": [
    {
     "name": "stdout",
     "output_type": "stream",
     "text": [
      "Found 6 matching MGRS tiles over the AOI.\n"
     ]
    }
   ],
   "source": [
    "print(f\"Found {len(mgrs_aoi)} matching MGRS tiles over the AOI.\")"
   ]
  },
  {
   "cell_type": "code",
   "execution_count": null,
   "metadata": {},
   "outputs": [],
   "source": []
  },
  {
   "cell_type": "code",
   "execution_count": 37,
   "metadata": {},
   "outputs": [],
   "source": [
    "mgrs_aoi.to_file(\"../data/mgrs/mgrs_aoi.fgb\")\n"
   ]
  },
  {
   "cell_type": "code",
   "execution_count": 38,
   "metadata": {},
   "outputs": [
    {
     "data": {
      "application/vnd.jupyter.widget-view+json": {
       "model_id": "f7f99365b2154a0f854c8c4d047b8a48",
       "version_major": 2,
       "version_minor": 0
      },
      "text/plain": [
       "Map(center=[-8.65, 115.2167], controls=(ZoomControl(options=['position', 'zoom_in_text', 'zoom_in_title', 'zoo…"
      ]
     },
     "execution_count": 38,
     "metadata": {},
     "output_type": "execute_result"
    }
   ],
   "source": [
    "from ipyleaflet import Map, GeoJSON\n",
    "# Create a map centered on Bali\n",
    "m = Map(center=(-8.65, 115.2167), zoom=10)\n",
    "\n",
    "# Create a GeoJSON layer for the selected MGRS grid cells\n",
    "geo_json = GeoJSON(data=mgrs_aoi.__geo_interface__, style={\"color\": \"red\", \"opacity\": 0.5, \"weight\": 1.5, \"fillOpacity\": 0.5})\n",
    "\n",
    "# Add the GeoJSON layer to the map\n",
    "m.add_layer(geo_json)\n",
    "\n",
    "# Display the map\n",
    "m\n",
    "\n"
   ]
  },
  {
   "cell_type": "code",
   "execution_count": 18,
   "metadata": {},
   "outputs": [
    {
     "ename": "SyntaxError",
     "evalue": "leading zeros in decimal integer literals are not permitted; use an 0o prefix for octal integers (439736660.py, line 8)",
     "output_type": "error",
     "traceback": [
      "\u001b[0;36m  Cell \u001b[0;32mIn[18], line 8\u001b[0;36m\u001b[0m\n\u001b[0;31m    --dateranges 2023-01-01/2024-12-15\u001b[0m\n\u001b[0m                      ^\u001b[0m\n\u001b[0;31mSyntaxError\u001b[0m\u001b[0;31m:\u001b[0m leading zeros in decimal integer literals are not permitted; use an 0o prefix for octal integers\n"
     ]
    }
   ],
   "source": [
    "```bash\n",
    "for i in {0..6}; do\n",
    "\n",
    "python scripts/pipeline/datacube.py \\\n",
    "    --sample data/mgrs/mgrs_aoi.fgb \\\n",
    "    --localpath data/chips  \\\n",
    "    --index $i \\\n",
    "    --dateranges 2023-01-01/2024-12-15 \n",
    "done\n",
    "```"
   ]
  },
  {
   "cell_type": "code",
   "execution_count": 42,
   "metadata": {},
   "outputs": [
    {
     "name": "stdout",
     "output_type": "stream",
     "text": [
      "Moved all non-intersecting TIFFs to the 'out' folder.\n"
     ]
    }
   ],
   "source": [
    "import os\n",
    "import shutil\n",
    "import geopandas as gpd\n",
    "import rasterio\n",
    "from shapely.geometry import box, shape\n",
    "\n",
    "# Update the tif_folder path to point directly to the folder\n",
    "tif_folder = '../data/Bali'\n",
    "out_folder = os.path.join(tif_folder, 'out')\n",
    "\n",
    "# GeoJSON data as a dictionary\n",
    "bali_geojson = {\n",
    "    \"type\": \"FeatureCollection\",\n",
    "    \"features\": [\n",
    "        {\n",
    "            \"type\": \"Feature\",\n",
    "            \"properties\": {},\n",
    "            \"geometry\": {\n",
    "                \"coordinates\": [\n",
    "                    [\n",
    "                        [115.25786880742186, -8.91782452701942],\n",
    "                        [115.62994751933928, -8.864911327853008],\n",
    "                        [115.75679253476551, -8.499883644265438],\n",
    "                        [115.77088642536938, -8.268425611230953],\n",
    "                        [115.33961337291942, -8.02008471521799],\n",
    "                        [115.09719845454964, -7.953090213823472],\n",
    "                        [114.94498443603698, -8.081486649352641],\n",
    "                        [114.63210006465204, -8.03124939498386],\n",
    "                        [114.39250392440204, -7.986588838340552],\n",
    "                        [114.31921569326715, -8.340945335516594],\n",
    "                        [114.55881183351715, -8.522185531989308],\n",
    "                        [114.82941453309331, -8.555635923696315],\n",
    "                        [114.96471588288063, -8.859341073228563],\n",
    "                        [115.25786880742186, -8.91782452701942]\n",
    "                    ]\n",
    "                ],\n",
    "                \"type\": \"Polygon\"\n",
    "            }\n",
    "        }\n",
    "    ]\n",
    "}\n",
    "\n",
    "# Ensure the output directory exists\n",
    "os.makedirs(out_folder, exist_ok=True)\n",
    "\n",
    "# Load the GeoJSON as a GeoDataFrame\n",
    "bali_polygon = shape(bali_geojson['features'][0]['geometry'])\n",
    "area_gdf = gpd.GeoDataFrame(index=[0], crs=\"EPSG:4326\", geometry=[bali_polygon])\n",
    "\n",
    "# Iterate over each TIFF file in the folder\n",
    "for filename in os.listdir(tif_folder):\n",
    "    if filename.endswith('.tif'):\n",
    "        tif_path = os.path.join(tif_folder, filename)\n",
    "        \n",
    "        # Open the TIFF to get its bounds and convert them to a geometry\n",
    "        with rasterio.open(tif_path) as src:\n",
    "            tif_geom = box(*src.bounds)\n",
    "            tif_gdf = gpd.GeoDataFrame(geometry=[tif_geom], crs=src.crs)\n",
    "        \n",
    "        # Reproject TIFF geometry to match the CRS of the GeoJSON if needed\n",
    "        tif_gdf = tif_gdf.to_crs(area_gdf.crs)\n",
    "        \n",
    "        # Check if the TIFF's geometry intersects with the GeoJSON's geometry\n",
    "        if not tif_gdf.intersects(area_gdf.unary_union).any():\n",
    "            # Move the TIFF to the \"out\" folder if no intersection\n",
    "            shutil.move(tif_path, os.path.join(out_folder, filename))\n",
    "\n",
    "print(\"Moved all non-intersecting TIFFs to the 'out' folder.\")\n"
   ]
  },
  {
   "cell_type": "code",
   "execution_count": 43,
   "metadata": {},
   "outputs": [
    {
     "name": "stdout",
     "output_type": "stream",
     "text": [
      "Found 341 TIFF files.\n"
     ]
    },
    {
     "data": {
      "application/vnd.jupyter.widget-view+json": {
       "model_id": "9e95b0d052ce484d82e01e64ce3f82f4",
       "version_major": 2,
       "version_minor": 0
      },
      "text/plain": [
       "Map(center=[-8.65, 115.2167], controls=(ZoomControl(options=['position', 'zoom_in_text', 'zoom_in_title', 'zoo…"
      ]
     },
     "execution_count": 43,
     "metadata": {},
     "output_type": "execute_result"
    }
   ],
   "source": [
    "import geopandas as gpd\n",
    "import rasterio\n",
    "from rasterio.plot import show\n",
    "from ipyleaflet import Map, GeoJSON, WidgetControl\n",
    "from ipywidgets import Output, VBox\n",
    "from glob import glob\n",
    "import os\n",
    "from shapely.geometry import box\n",
    "\n",
    "def get_geometries(tif_files):\n",
    "    \"\"\"Extract geometries from TIFF files, create GeoDataFrame, and reproject to EPSG:4326.\"\"\"\n",
    "    geometries = []\n",
    "    for file in tif_files:\n",
    "        with rasterio.open(file) as src:\n",
    "            geom = box(*src.bounds)\n",
    "            geometries.append(geom)\n",
    "    gdf = gpd.GeoDataFrame(geometry=geometries, crs=src.crs)  # Use the CRS from the TIFF file\n",
    "    gdf = gdf.to_crs(epsg=4326)  # Reproject to lat/long\n",
    "    return gdf\n",
    "\n",
    "def on_click(feature, **kwargs):\n",
    "    \"\"\"Handle click events and display TIFF overview.\"\"\"\n",
    "    file_path = feature['properties']['path']\n",
    "    with rasterio.open(file_path) as src:\n",
    "        out.clear_output()\n",
    "        with out:\n",
    "            show(src, 1)\n",
    "\n",
    "def display_map(geoms):\n",
    "    \"\"\"Display geometries on a map with clickable functionality.\"\"\"\n",
    "    m = Map(center=(-8.65, 115.2167), zoom=10)  # Centered on Bali\n",
    "    out = Output()\n",
    "    \n",
    "    for index, geom in geoms.iterrows():\n",
    "        geo_json = GeoJSON(data={\"type\": \"Feature\",\n",
    "                                 \"properties\": {\"path\": tif_files[index]},\n",
    "                                 \"geometry\": geom.geometry.__geo_interface__},\n",
    "                           style={\"color\": \"red\", \"opacity\": 0.5, \"weight\": 1.5, \"fillOpacity\": 0.5})\n",
    "        geo_json.on_click(on_click)\n",
    "        m.add_layer(geo_json)\n",
    "    \n",
    "    control = WidgetControl(widget=VBox([out]), position='topright')\n",
    "    m.add_control(control)\n",
    "    return m\n",
    "# List of TIFF files\n",
    "tif_files = glob(os.path.join('../data/Bali', '*.tif'))\n",
    "print(f\"Found {len(tif_files)} TIFF files.\" )\n",
    "\n",
    "# Extract geometries and display map\n",
    "geoms = get_geometries(tif_files)\n",
    "display_map(geoms)\n"
   ]
  },
  {
   "cell_type": "code",
   "execution_count": null,
   "metadata": {},
   "outputs": [],
   "source": []
  }
 ],
 "metadata": {
  "kernelspec": {
   "display_name": "claymodel",
   "language": "python",
   "name": "python3"
  },
  "language_info": {
   "codemirror_mode": {
    "name": "ipython",
    "version": 3
   },
   "file_extension": ".py",
   "mimetype": "text/x-python",
   "name": "python",
   "nbconvert_exporter": "python",
   "pygments_lexer": "ipython3",
   "version": "3.11.8"
  }
 },
 "nbformat": 4,
 "nbformat_minor": 2
}
