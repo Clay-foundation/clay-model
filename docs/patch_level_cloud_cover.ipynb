{
 "cells": [
  {
   "cell_type": "markdown",
   "id": "287c93e9",
   "metadata": {},
   "source": [
    "# Patch level cloud coverage\n",
    "\n",
    "This notebook obtains patch level (32x32 subset) cloud cover percentages from the Scene classification mask tied to a Sentinel-2 dataset."
   ]
  },
  {
   "cell_type": "code",
   "execution_count": 14,
   "id": "9b0dbed2",
   "metadata": {},
   "outputs": [],
   "source": [
    "import geopandas as gpd\n",
    "import pystac_client\n",
    "import shapely\n",
    "import stackstac\n",
    "import torch\n",
    "import matplotlib.pyplot as plt\n",
    "import numpy\n",
    "import pandas as pd\n",
    "import xarray as xr\n",
    "import rasterio\n",
    "import rioxarray  # noqa: F401\n",
    "import pyarrow as pa\n",
    "import pickle\n",
    "import lancedb\n",
    "import glob\n",
    "from pathlib import Path\n",
    "from shapely.geometry import Point, Polygon, box\n",
    "from rasterio.enums import Resampling\n",
    "\n",
    "pd.set_option('display.max_colwidth', None)\n",
    "\n",
    "BAND_GROUPS = {\n",
    "    \"rgb\": [\"red\", \"green\", \"blue\"],\n",
    "    \"rededge\": [\"rededge1\", \"rededge2\", \"rededge3\", \"nir08\"],\n",
    "    \"nir\": [\n",
    "        \"nir\",\n",
    "    ],\n",
    "    \"swir\": [\"swir16\", \"swir22\"],\n",
    "    \"sar\": [\"vv\", \"vh\"],\n",
    "    \"scl\": [\"scl\"],\n",
    "}\n",
    "\n",
    "# Cloud labels in the SCL band: https://docs.sentinel-hub.com/api/latest/data/sentinel-2-l2a/\n",
    "SCL_CLOUD_LABELS = [7, 8, 9, 10]\n",
    "\n",
    "STAC_API = \"https://earth-search.aws.element84.com/v1\"\n",
    "COLLECTION = \"sentinel-2-l2a\""
   ]
  },
  {
   "cell_type": "markdown",
   "id": "03fa77d3",
   "metadata": {},
   "source": [
    "## Find Sentinel-2 scenes stored as Cloud-Optimized GeoTIFFs"
   ]
  },
  {
   "cell_type": "markdown",
   "id": "fda4d759-2c2b-430a-b4b8-21ebd0c4ccbb",
   "metadata": {},
   "source": [
    "#### Define an area of interest\n",
    "This is a hotspot area where mining extraction occurs on the island of Fiji. We used this in another tutorial, albeit with a cloud free composite. This will help demonstrate how we can capture clouds for the same region and time frame in the absence of a cloud-free composite."
   ]
  },
  {
   "cell_type": "code",
   "execution_count": 15,
   "id": "adb0b69a-faa2-4bfc-9cdd-d2294de9bec8",
   "metadata": {},
   "outputs": [],
   "source": [
    "# sample cluster\n",
    "bbox_bl = (177.4199,-17.8579)\n",
    "bbox_tl = (177.4156,-17.6812)\n",
    "bbox_br = (177.5657,-17.8572)\n",
    "bbox_tr = (177.5657,-17.6812)"
   ]
  },
  {
   "cell_type": "markdown",
   "id": "36e30686-7555-4866-8157-752418174140",
   "metadata": {},
   "source": [
    "Define spatiotemporal query"
   ]
  },
  {
   "cell_type": "code",
   "execution_count": 16,
   "id": "2a1ac2ef",
   "metadata": {},
   "outputs": [],
   "source": [
    "# Define area of interest\n",
    "area_of_interest = shapely.box(xmin=bbox_bl[0], ymin=bbox_bl[1], xmax=bbox_tr[0], ymax=bbox_tr[1])\n",
    "\n",
    "# Define temporal range\n",
    "daterange: dict = [\"2021-01-01T00:00:00Z\", \"2021-12-31T23:59:59Z\"]"
   ]
  },
  {
   "cell_type": "code",
   "execution_count": 17,
   "id": "ba4e6aeb",
   "metadata": {},
   "outputs": [
    {
     "name": "stdout",
     "output_type": "stream",
     "text": [
      "Found 80 items\n"
     ]
    }
   ],
   "source": [
    "catalog = pystac_client.Client.open(STAC_API)\n",
    "\n",
    "search = catalog.search(\n",
    "    collections=[COLLECTION],\n",
    "    datetime=daterange,\n",
    "    intersects=area_of_interest.centroid,\n",
    "    max_items=100,\n",
    "    query={\"eo:cloud_cover\": {\"lt\": 80}},\n",
    ")\n",
    "\n",
    "items = search.get_all_items()\n",
    "\n",
    "print(f\"Found {len(items)} items\")"
   ]
  },
  {
   "cell_type": "markdown",
   "id": "90d5183d",
   "metadata": {},
   "source": [
    "## Download the data\n",
    "Get the data into a numpy array and visualize the imagery. "
   ]
  },
  {
   "cell_type": "code",
   "execution_count": null,
   "id": "3cccf2b9",
   "metadata": {},
   "outputs": [],
   "source": [
    "# Extract coordinate system from first item\n",
    "epsg = items[0].properties[\"proj:epsg\"]\n",
    "\n",
    "# Convert point from lon/lat to UTM projection\n",
    "poidf = gpd.GeoDataFrame(crs=\"OGC:CRS84\", geometry=[area_of_interest.centroid]).to_crs(\n",
    "    epsg\n",
    ")\n",
    "geom = poidf.iloc[0].geometry\n",
    "\n",
    "# Create bounds of the correct size, the model\n",
    "# requires 512x512 pixels at 10m resolution.\n",
    "bounds = (geom.x - 2560, geom.y - 2560, geom.x + 2560, geom.y + 2560)\n",
    "\n",
    "# Retrieve the pixel values, for the bounding box in\n",
    "# the target projection. In this example we use only\n",
    "# the RGB, NIR and SCL band groups.\n",
    "stack = stackstac.stack(\n",
    "    items[0],\n",
    "    bounds=bounds,\n",
    "    snap_bounds=False,\n",
    "    epsg=epsg,\n",
    "    resolution=10,\n",
    "    dtype=\"float32\",\n",
    "    rescale=False,\n",
    "    fill_value=0,\n",
    "    assets=BAND_GROUPS[\"rgb\"] + BAND_GROUPS[\"nir\"] + BAND_GROUPS[\"scl\"],\n",
    "    resampling=Resampling.nearest,\n",
    ")\n",
    "\n",
    "stack = stack.compute()\n",
    "print(stack.shape)\n",
    "assert stack.shape == (1, 5, 512, 512)\n",
    "\n",
    "stack.sel(band=[\"red\", \"green\", \"blue\"]).plot.imshow(\n",
    "    row=\"time\", rgb=\"band\", vmin=0, vmax=2000\n",
    ")"
   ]
  },
  {
   "cell_type": "markdown",
   "id": "1d0f37d4-35bf-4aa8-afb6-20f37d5739c2",
   "metadata": {},
   "source": [
    "### Get the geospatial bounds for the 32x32 windows \n",
    "We will use the geospatial bounds of the 32x32 windowed subsets (\"chunks\") to store the patch level embeddings."
   ]
  },
  {
   "cell_type": "code",
   "execution_count": null,
   "id": "22aa5c54-5336-4b52-a927-6748448a146d",
   "metadata": {
    "scrolled": true
   },
   "outputs": [],
   "source": [
    "# Define the chunk size for tiling\n",
    "chunk_size = {'x': 32, 'y': 32}  # Adjust the chunk size as needed\n",
    "\n",
    "# Tile the data\n",
    "ds_chunked = stack.chunk(chunk_size)\n",
    "\n",
    "# Get the dimensions of the data array\n",
    "dims = ds_chunked.dims\n",
    "\n",
    "# Get the geospatial information from the original dataset\n",
    "geo_info = ds_chunked.attrs\n",
    "\n",
    "# Iterate over the chunks and compute the geospatial bounds for each chunk\n",
    "chunk_bounds = {}\n",
    "\n",
    "# Get the geospatial transform and CRS\n",
    "transform = ds_chunked.attrs['transform']\n",
    "crs = ds_chunked.attrs['crs']\n",
    "\n",
    "for x in range((ds_chunked.sizes['x'] // chunk_size['x']) + 1):\n",
    "    for y in range((ds_chunked.sizes['y'] // chunk_size['y']) + 1):\n",
    "        # Compute chunk coordinates\n",
    "        x_start = x * chunk_size['x']\n",
    "        y_start = y * chunk_size['y']\n",
    "        x_end = min(x_start + chunk_size['x'], ds_chunked.sizes['x'])\n",
    "        y_end = min(y_start + chunk_size['y'], ds_chunked.sizes['y'])\n",
    "        \n",
    "        # Compute chunk geospatial bounds\n",
    "        lon_start, lat_start = transform * (x_start, y_start)\n",
    "        lon_end, lat_end = transform * (x_end, y_end)\n",
    "        print(lon_start, lat_start, lon_end, lat_end, x, y)\n",
    "\n",
    "        # Store chunk bounds\n",
    "        chunk_bounds[(x, y)] = {\n",
    "            'lon_start': lon_start, 'lat_start': lat_start,\n",
    "            'lon_end': lon_end, 'lat_end': lat_end\n",
    "        }\n",
    "\n",
    "# Print chunk bounds\n",
    "#for key, value in chunk_bounds.items():\n",
    "    #print(f\"Chunk {key}: {value}\")\n",
    "\n"
   ]
  },
  {
   "cell_type": "code",
   "execution_count": 29,
   "id": "78ae1721-1a12-494b-9e12-9f08640ddba9",
   "metadata": {},
   "outputs": [
    {
     "name": "stdout",
     "output_type": "stream",
     "text": [
      "Chunk (6, 0): Cloud Count = 2\n",
      "Chunk (7, 0): Cloud Count = 32\n",
      "Chunk (8, 0): Cloud Count = 16\n",
      "Chunk (9, 0): Cloud Count = 18\n",
      "Chunk (10, 0): Cloud Count = 4\n"
     ]
    }
   ],
   "source": [
    "# Function to count cloud pixels in a subset\n",
    "def count_cloud_pixels(subset_scl):\n",
    "    cloud_pixels_7 = numpy.count_nonzero(subset_scl == SCL_CLOUD_LABELS[0])\n",
    "    cloud_pixels_8 = numpy.count_nonzero(subset_scl == SCL_CLOUD_LABELS[1])\n",
    "    cloud_pixels_9 = numpy.count_nonzero(subset_scl == SCL_CLOUD_LABELS[2])\n",
    "    cloud_pixels_10 = numpy.count_nonzero(subset_scl == SCL_CLOUD_LABELS[3])\n",
    "    cloud_pixels = cloud_pixels_7 + cloud_pixels_8 + cloud_pixels_9 + cloud_pixels_10\n",
    "    return cloud_pixels\n",
    "\n",
    "# Iterate over the chunks and compute the cloud count for each chunk\n",
    "cloud_counts = {}\n",
    "\n",
    "for x in range((ds_chunked.sizes['x'] // chunk_size['x']) + 1):\n",
    "    for y in range((ds_chunked.sizes['y'] // chunk_size['y']) + 1):\n",
    "        # Compute chunk coordinates\n",
    "        x_start = x * chunk_size['x']\n",
    "        y_start = y * chunk_size['y']\n",
    "        x_end = min(x_start + chunk_size['x'], ds_chunked.sizes['x'])\n",
    "        y_end = min(y_start + chunk_size['y'], ds_chunked.sizes['y'])\n",
    "        \n",
    "        # Extract the subset of the SCL band\n",
    "        subset_scl = ds_chunked[:,:,5][:, y_start:y_end, x_start:x_end]\n",
    "        \n",
    "        # Count the cloud pixels in the subset\n",
    "        cloud_count = count_cloud_pixels(subset_scl)\n",
    "        \n",
    "        # Store the cloud count for this chunk\n",
    "        cloud_counts[(x, y)] = cloud_count\n",
    "\n",
    "# Print cloud counts\n",
    "for key, value in cloud_counts.items():\n",
    "    if value > 0:\n",
    "        print(f\"Chunk {key}: Cloud Count = {value}\")\n"
   ]
  }
 ],
 "metadata": {
  "jupytext": {
   "formats": "ipynb,py:percent"
  },
  "kernelspec": {
   "display_name": "Python 3 (ipykernel)",
   "language": "python",
   "name": "python3"
  },
  "language_info": {
   "codemirror_mode": {
    "name": "ipython",
    "version": 3
   },
   "file_extension": ".py",
   "mimetype": "text/x-python",
   "name": "python",
   "nbconvert_exporter": "python",
   "pygments_lexer": "ipython3",
   "version": "3.10.13"
  }
 },
 "nbformat": 4,
 "nbformat_minor": 5
}
