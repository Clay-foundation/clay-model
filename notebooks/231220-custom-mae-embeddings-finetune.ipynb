{
 "cells": [
  {
   "cell_type": "code",
   "execution_count": 1,
   "id": "ea0176a6-97a1-4af6-af75-b9e52e52fbaf",
   "metadata": {},
   "outputs": [],
   "source": [
    "import sys\n",
    "from __future__ import annotations"
   ]
  },
  {
   "cell_type": "code",
   "execution_count": 2,
   "id": "2d5517a8-7ff0-4340-90e3-3d37cf6ab11b",
   "metadata": {},
   "outputs": [],
   "source": [
    "from pathlib import Path"
   ]
  },
  {
   "cell_type": "code",
   "execution_count": 3,
   "id": "d64018d3-ef1d-4e9e-b800-96682c4d1f44",
   "metadata": {},
   "outputs": [],
   "source": [
    "data_dir = \"../benchmark/\""
   ]
  },
  {
   "cell_type": "code",
   "execution_count": 4,
   "id": "5ea314d0-176a-4ee3-b738-6152d27275d9",
   "metadata": {},
   "outputs": [],
   "source": [
    "from src.model_clay import CLAYModule\n",
    "import src.datamodule\n",
    "from src.datamodule_eval_local import ClayDataset, ClayDataModule\n",
    "import pandas as pd\n",
    "import random\n",
    "import matplotlib.pyplot as plt\n",
    "from torch.utils.data import DataLoader\n",
    "import numpy as np\n",
    "import einops\n",
    "from sklearn.decomposition import PCA\n",
    "from sklearn.metrics.pairwise import cosine_similarity\n",
    "import rasterio as rio\n",
    "from einops import rearrange, reduce\n",
    "import torch"
   ]
  },
  {
   "cell_type": "code",
   "execution_count": 5,
   "id": "4c5f2abf-5e9c-4def-88d9-38136307b420",
   "metadata": {},
   "outputs": [],
   "source": [
    "model = CLAYModule.load_from_checkpoint(\"../mae_epoch-10_val-loss-0.563.ckpt\", mask_ratio=0.)\n",
    "model.eval();"
   ]
  },
  {
   "cell_type": "code",
   "execution_count": 6,
   "id": "348c0573-7670-47a6-9e13-c6de36493b58",
   "metadata": {},
   "outputs": [],
   "source": [
    "dm = ClayDataModule(data_dir=data_dir, batch_size=4)"
   ]
  },
  {
   "cell_type": "code",
   "execution_count": 9,
   "id": "0fd6d1ca-4cde-48c9-842a-8eb16279a534",
   "metadata": {},
   "outputs": [
    {
     "name": "stdout",
     "output_type": "stream",
     "text": [
      "Total number of chips: 19\n"
     ]
    }
   ],
   "source": [
    "dm.setup()"
   ]
  },
  {
   "cell_type": "code",
   "execution_count": 10,
   "id": "0a4adf82-79fd-4ee2-9c6a-e150acdf85b3",
   "metadata": {},
   "outputs": [],
   "source": [
    "val_dl = iter(dm.val_dataloader())"
   ]
  },
  {
   "cell_type": "code",
   "execution_count": 11,
   "id": "083a38ca",
   "metadata": {
    "scrolled": false
   },
   "outputs": [],
   "source": [
    "batch = next(val_dl)"
   ]
  },
  {
   "cell_type": "code",
   "execution_count": 12,
   "id": "7a75bec1",
   "metadata": {},
   "outputs": [
    {
     "data": {
      "text/plain": [
       "{'labels': tensor([[[[1., 0., 0.,  ..., 0., 0., 0.],\n",
       "           [1., 0., 0.,  ..., 0., 0., 0.],\n",
       "           [1., 1., 0.,  ..., 0., 0., 0.],\n",
       "           ...,\n",
       "           [0., 0., 0.,  ..., 0., 0., 0.],\n",
       "           [0., 0., 0.,  ..., 0., 0., 0.],\n",
       "           [0., 0., 0.,  ..., 0., 0., 0.]]]]),\n",
       " 'pixels': tensor([[[[-0.4157, -0.4420, -0.4249,  ..., -0.3267, -0.3222, -0.3279],\n",
       "           [-0.3632, -0.4055, -0.4180,  ..., -0.3290, -0.3096, -0.3267],\n",
       "           [-0.3804, -0.3621, -0.4009,  ..., -0.2994, -0.2560, -0.2720],\n",
       "           ...,\n",
       "           [-0.2058, -0.2891, -0.0358,  ..., -0.4545, -0.4363, -0.4271],\n",
       "           [ 0.0030, -0.2857, -0.1864,  ..., -0.4420, -0.4465, -0.4340],\n",
       "           [ 0.3932, -0.2663, -0.2378,  ..., -0.4488, -0.4557, -0.4465]],\n",
       " \n",
       "          [[-0.3860, -0.4002, -0.3980,  ..., -0.2684, -0.2825, -0.2880],\n",
       "           [-0.3697, -0.3947, -0.3893,  ..., -0.2597, -0.3010, -0.2956],\n",
       "           [-0.3413, -0.3435, -0.3446,  ..., -0.2052, -0.2858, -0.2684],\n",
       "           ...,\n",
       "           [-0.0418, -0.1191,  0.0660,  ..., -0.4198, -0.3947, -0.3773],\n",
       "           [ 0.1107, -0.0930,  0.0638,  ..., -0.3773, -0.3544, -0.3239],\n",
       "           [ 0.4832, -0.1344,  0.0192,  ..., -0.3555, -0.3577, -0.3435]],\n",
       " \n",
       "          [[-0.3661, -0.3987, -0.3733,  ..., -0.1583, -0.1715, -0.1960],\n",
       "           [-0.3702, -0.3559, -0.3345,  ..., -0.1634, -0.1644, -0.1837],\n",
       "           [-0.3549, -0.3508, -0.3142,  ..., -0.1165, -0.1511, -0.1552],\n",
       "           ...,\n",
       "           [-0.0370, -0.0187,  0.1800,  ..., -0.3743, -0.3610, -0.3366],\n",
       "           [ 0.1464, -0.0289,  0.1341,  ..., -0.3457, -0.3050, -0.3091],\n",
       "           [ 0.4979,  0.0873,  0.0862,  ..., -0.3407, -0.3152, -0.3172]],\n",
       " \n",
       "          ...,\n",
       " \n",
       "          [[-0.0883,  0.1689,  0.2858,  ..., -0.1635,  0.0737, -0.2515],\n",
       "           [-0.0218,  0.1926,  0.1631,  ..., -0.2424, -0.2162, -0.2332],\n",
       "           [-0.1711, -0.0762, -0.0726,  ..., -0.0939, -0.0751, -0.0826],\n",
       "           ...,\n",
       "           [-0.2050, -0.2414,  0.0024,  ..., -0.1406, -0.2588, -0.2669],\n",
       "           [-0.3243, -0.4138, -0.2421,  ..., -0.1091, -0.2340, -0.2836],\n",
       "           [-0.4012, -0.4353, -0.3162,  ..., -0.0296, -0.1514, -0.3252]],\n",
       " \n",
       "          [[-0.0739, -0.1092, -0.1474,  ...,  0.1775,  0.4396,  0.2282],\n",
       "           [-0.0628, -0.0554, -0.0785,  ...,  0.0610,  0.2537,  0.1535],\n",
       "           [-0.1085, -0.1074, -0.0335,  ..., -0.0771,  0.0062,  0.0608],\n",
       "           ...,\n",
       "           [-0.1489,  0.0575,  0.2373,  ..., -0.0795, -0.1643, -0.2382],\n",
       "           [-0.1560,  0.0944,  0.1455,  ..., -0.1674, -0.2443, -0.2540],\n",
       "           [-0.2263, -0.1094, -0.0190,  ..., -0.1806, -0.1835, -0.1722]],\n",
       " \n",
       "          [[-0.5244, -0.5242, -0.5242,  ..., -0.5566, -0.5563, -0.5563],\n",
       "           [-0.5242, -0.5220, -0.5220,  ..., -0.5565, -0.5563, -0.5563],\n",
       "           [-0.5242, -0.5220, -0.5220,  ..., -0.5565, -0.5563, -0.5563],\n",
       "           ...,\n",
       "           [-0.5174, -0.5170, -0.5170,  ..., -0.2125, -0.2125, -0.2072],\n",
       "           [-0.5135, -0.5124, -0.5124,  ..., -0.2125, -0.2125, -0.2072],\n",
       "           [-0.5135, -0.5124, -0.5124,  ..., -0.2261, -0.2261, -0.2209]]]]),\n",
       " 'bbox': tensor([[ 661415., 5369305.,  666535., 5374425.]], dtype=torch.float64),\n",
       " 'epsg': tensor([32633], dtype=torch.int32),\n",
       " 'date': ['2020-10-20'],\n",
       " 'latlon': tensor([[-0.8192, -0.7854]]),\n",
       " 'timestep': tensor([[-1.2217,  2.7132, -2.4086]]),\n",
       " 'source_url': ['S2A_L2A_20201022T100051_N0209_R122_T33UXP_20201022T111023_06144-02560_S1B_IW_GRDH_1SDV_20201020T164222_20201020T164247_023899_02D6C4_rtc']}"
      ]
     },
     "execution_count": 12,
     "metadata": {},
     "output_type": "execute_result"
    }
   ],
   "source": [
    "batch"
   ]
  },
  {
   "cell_type": "code",
   "execution_count": 13,
   "id": "69599500",
   "metadata": {},
   "outputs": [],
   "source": [
    "batch[\"pixels\"] = batch[\"pixels\"].to(model.device)\n",
    "batch[\"timestep\"] = batch[\"timestep\"].to(model.device)\n",
    "batch[\"latlon\"] = batch[\"latlon\"].to(model.device)\n",
    "emb = model.model.encoder(batch)"
   ]
  },
  {
   "cell_type": "code",
   "execution_count": 14,
   "id": "50143a37",
   "metadata": {},
   "outputs": [
    {
     "data": {
      "text/plain": [
       "(tensor([[[-0.1726,  0.0199,  0.0531,  ...,  0.0189,  0.0039, -0.2733],\n",
       "          [-0.5136, -0.2629, -0.0092,  ...,  0.0840, -0.0267,  0.0048],\n",
       "          [-0.1802, -0.0342,  0.0473,  ...,  0.0048, -0.0149, -0.1933],\n",
       "          ...,\n",
       "          [-0.0627,  0.0533,  0.0892,  ...,  0.0223,  0.0055, -0.3010],\n",
       "          [ 0.0280,  0.0501,  0.0121,  ...,  0.0184,  0.0125, -0.2738],\n",
       "          [-0.3056, -0.0306,  0.1429,  ...,  0.0135, -0.0400, -0.1876]]],\n",
       "        grad_fn=<NativeLayerNormBackward0>),\n",
       " tensor([[  90, 1449,  709,  ..., 1151,  329,  756]]),\n",
       " tensor([], size=(1, 0), dtype=torch.int64),\n",
       " tensor([[[0., 0., 0.,  ..., 0., 0., 0.],\n",
       "          [0., 0., 0.,  ..., 0., 0., 0.],\n",
       "          [0., 0., 0.,  ..., 0., 0., 0.],\n",
       "          [0., 0., 0.,  ..., 0., 0., 0.],\n",
       "          [0., 0., 0.,  ..., 0., 0., 0.],\n",
       "          [0., 0., 0.,  ..., 0., 0., 0.]]]))"
      ]
     },
     "execution_count": 14,
     "metadata": {},
     "output_type": "execute_result"
    }
   ],
   "source": [
    "emb"
   ]
  },
  {
   "cell_type": "code",
   "execution_count": 20,
   "id": "3ae6f178",
   "metadata": {},
   "outputs": [
    {
     "data": {
      "text/plain": [
       "torch.Size([1, 1538, 768])"
      ]
     },
     "execution_count": 20,
     "metadata": {},
     "output_type": "execute_result"
    }
   ],
   "source": [
    "emb[0].shape"
   ]
  },
  {
   "cell_type": "code",
   "execution_count": 48,
   "id": "120c702d",
   "metadata": {},
   "outputs": [
    {
     "name": "stdout",
     "output_type": "stream",
     "text": [
      "Total number of chips: 19\n",
      "                                                                                                                                                                                                            \r"
     ]
    },
    {
     "name": "stderr",
     "output_type": "stream",
     "text": [
      "GPU available: False, used: False\n",
      "TPU available: False, using: 0 TPU cores\n",
      "IPU available: False, using: 0 IPUs\n",
      "HPU available: False, using: 0 HPUs\n",
      "Missing logger folder: /Users/lillythomas/Documents/work/clay/lt/benchmark/latest/model/lightning_logs\n",
      "\n",
      "  | Name  | Type | Params\n",
      "-------------------------------\n",
      "0 | model | UNet | 963 K \n",
      "-------------------------------\n",
      "963 K     Trainable params\n",
      "0         Non-trainable params\n",
      "963 K     Total params\n",
      "3.855     Total estimated model params size (MB)\n"
     ]
    },
    {
     "name": "stdout",
     "output_type": "stream",
     "text": [
      "Sanity Checking DataLoader 0:   0%|                                                                                                                                                   | 0/1 [00:00<?, ?it/s]Prediction shape: torch.Size([1, 512, 512])\n",
      "Label shape: torch.Size([1, 512, 512])\n",
      "                                                                                                                                                                                                            "
     ]
    },
    {
     "name": "stderr",
     "output_type": "stream",
     "text": [
      "/var/folders/wz/qvnrzvw92_zfzw3lmwsf1mjh0000gn/T/ipykernel_3512/907322172.py:73: UserWarning: To copy construct from a tensor, it is recommended to use sourceTensor.clone().detach() or sourceTensor.clone().detach().requires_grad_(True), rather than torch.tensor(sourceTensor).\n",
      "  val_loss = torch.tensor(val_loss, requires_grad=True)\n",
      "/Users/lillythomas/.pyenv/versions/ptod/lib/python3.8/site-packages/pytorch_lightning/utilities/data.py:72: Trying to infer the `batch_size` from an ambiguous collection. The batch size we found is 1. To avoid any miscalculations, use `self.log(..., batch_size=batch_size)`.\n",
      "/Users/lillythomas/.pyenv/versions/ptod/lib/python3.8/site-packages/pytorch_lightning/trainer/trainer.py:1933: The number of training batches (1) is smaller than the logging interval Trainer(log_every_n_steps=50). Set a lower value for log_every_n_steps if you want to see logs for the training epoch.\n"
     ]
    },
    {
     "name": "stdout",
     "output_type": "stream",
     "text": [
      "Epoch 0:   0%|                                                                                                                                                                        | 0/2 [00:00<?, ?it/s]Prediction shape: torch.Size([1, 512, 512])\n",
      "Label shape: torch.Size([1, 512, 512])\n"
     ]
    },
    {
     "name": "stderr",
     "output_type": "stream",
     "text": [
      "/var/folders/wz/qvnrzvw92_zfzw3lmwsf1mjh0000gn/T/ipykernel_3512/907322172.py:55: UserWarning: To copy construct from a tensor, it is recommended to use sourceTensor.clone().detach() or sourceTensor.clone().detach().requires_grad_(True), rather than torch.tensor(sourceTensor).\n",
      "  loss = torch.tensor(loss, requires_grad=True)\n"
     ]
    },
    {
     "name": "stdout",
     "output_type": "stream",
     "text": [
      "Epoch 0:  50%|██████████████████████████████████████████████████████████████████████▌                                                                      | 1/2 [00:20<00:20, 20.82s/it, loss=190, v_num=0]\n",
      "Validation: 0it [00:00, ?it/s]\u001b[A\n",
      "Validation:   0%|                                                                                                                                                                     | 0/1 [00:00<?, ?it/s]\u001b[A\n",
      "Validation DataLoader 0:   0%|                                                                                                                                                        | 0/1 [00:00<?, ?it/s]\u001b[APrediction shape: torch.Size([1, 512, 512])\n",
      "Label shape: torch.Size([1, 512, 512])\n",
      "\n",
      "Validation DataLoader 0: 100%|████████████████████████████████████████████████████████████████████████████████████████████████████████████████████████████████████████████████| 1/1 [00:12<00:00, 12.84s/it]\u001b[A\n",
      "Epoch 0: 100%|█████████████████████████████████████████████████████████████████████████████████████████████████████████████████████████████████████████████| 2/2 [00:46<00:00, 23.37s/it, loss=190, v_num=0]\u001b[A\n",
      "Epoch 1:   0%|                                                                                                                                                     | 0/2 [00:00<?, ?it/s, loss=190, v_num=0]\u001b[APrediction shape: torch.Size([1, 512, 512])\n",
      "Label shape: torch.Size([1, 512, 512])\n",
      "Epoch 1:  50%|██████████████████████████████████████████████████████████████████████▌                                                                      | 1/2 [00:26<00:26, 26.78s/it, loss=190, v_num=0]\n",
      "Validation: 0it [00:00, ?it/s]\u001b[A\n",
      "Validation:   0%|                                                                                                                                                                     | 0/1 [00:00<?, ?it/s]\u001b[A\n",
      "Validation DataLoader 0:   0%|                                                                                                                                                        | 0/1 [00:00<?, ?it/s]\u001b[APrediction shape: torch.Size([1, 512, 512])\n",
      "Label shape: torch.Size([1, 512, 512])\n",
      "\n",
      "Validation DataLoader 0: 100%|████████████████████████████████████████████████████████████████████████████████████████████████████████████████████████████████████████████████| 1/1 [00:12<00:00, 12.48s/it]\u001b[A\n",
      "Epoch 1: 100%|█████████████████████████████████████████████████████████████████████████████████████████████████████████████████████████████████████████████| 2/2 [00:52<00:00, 26.24s/it, loss=190, v_num=0]\u001b[A\n",
      "Epoch 2:   0%|                                                                                                                                                     | 0/2 [00:00<?, ?it/s, loss=190, v_num=0]\u001b[APrediction shape: torch.Size([1, 512, 512])\n",
      "Label shape: torch.Size([1, 512, 512])\n",
      "Epoch 2:  50%|██████████████████████████████████████████████████████████████████████▌                                                                      | 1/2 [00:26<00:26, 26.08s/it, loss=190, v_num=0]\n",
      "Validation: 0it [00:00, ?it/s]\u001b[A\n",
      "Validation:   0%|                                                                                                                                                                     | 0/1 [00:00<?, ?it/s]\u001b[A\n",
      "Validation DataLoader 0:   0%|                                                                                                                                                        | 0/1 [00:00<?, ?it/s]\u001b[APrediction shape: torch.Size([1, 512, 512])\n",
      "Label shape: torch.Size([1, 512, 512])\n",
      "\n",
      "Validation DataLoader 0: 100%|████████████████████████████████████████████████████████████████████████████████████████████████████████████████████████████████████████████████| 1/1 [00:11<00:00, 11.92s/it]\u001b[A\n",
      "Epoch 2: 100%|█████████████████████████████████████████████████████████████████████████████████████████████████████████████████████████████████████████████| 2/2 [00:51<00:00, 25.50s/it, loss=190, v_num=0]\u001b[A\n",
      "Epoch 2: 100%|█████████████████████████████████████████████████████████████████████████████████████████████████████████████████████████████████████████████| 2/2 [00:51<00:00, 25.54s/it, loss=190, v_num=0]\u001b[A\n"
     ]
    }
   ],
   "source": [
    "from pytorch_lightning import LightningModule, Trainer\n",
    "\n",
    "class UNet(torch.nn.Module):\n",
    "    def __init__(self, in_channels, out_channels):\n",
    "        super().__init__()        \n",
    "        self.decoder = torch.nn.Sequential(\n",
    "            torch.nn.Conv2d(4608, 64, kernel_size=(1,1), stride=(1,1)),\n",
    "            torch.nn.ConvTranspose2d(64, 128, kernel_size=3, padding=1),\n",
    "            torch.nn.ReLU(inplace=True),\n",
    "            torch.nn.ConvTranspose2d(128, 512, kernel_size=3, padding=1),\n",
    "            torch.nn.ReLU(inplace=True),\n",
    "            torch.nn.Upsample(scale_factor=2),\n",
    "            torch.nn.Conv2d(512, 1, kernel_size=3, padding=1),\n",
    "            torch.nn.Upsample(scale_factor=16),\n",
    "            #torch.nn.Conv2d(512, 1, kernel_size=3, padding=1),\n",
    "            torch.nn.Softmax(dim=1),\n",
    "            )\n",
    "\n",
    "    def forward(self, x):\n",
    "        batch = x\n",
    "        batch[\"pixels\"] = batch[\"pixels\"].to(model_clay.device)\n",
    "        batch[\"timestep\"] = batch[\"timestep\"].to(model_clay.device)\n",
    "        batch[\"latlon\"] = batch[\"latlon\"].to(model_clay.device)\n",
    "        emb = model_clay.model.encoder(batch)\n",
    "        embeddings = emb[0] #space[\"embeddings\"]\n",
    "        embeddings = embeddings[:,:-2,:]\n",
    "        latent = rearrange(embeddings, \"b (g l) d  -> b g l d\", g=6)\n",
    "        latent = rearrange(latent, \"b g (h w) d -> b g h w d\", h=16, w=16)\n",
    "        latent = rearrange(latent, \"b g h w d -> b (g d) h w\")\n",
    "        x = self.decoder(latent)\n",
    "        return x\n",
    "\n",
    "\n",
    "class SegmentationModel(LightningModule):\n",
    "    def __init__(self, model, datamodule):\n",
    "        super().__init__()\n",
    "        self.model = model\n",
    "        self.datamodule = datamodule\n",
    "    \n",
    "    def forward(self, x):\n",
    "        return self.model(x)\n",
    "\n",
    "    def training_step(self, batch, batch_idx):\n",
    "        x, x_, y = batch, batch[\"pixels\"], batch[\"labels\"]\n",
    "        # x = torch.tensor(x, requires_grad=True)\n",
    "        #y = y.to(dtype=torch.float32)\n",
    "        #y = y.squeeze()\n",
    "        #print(\"Shapes - x:\", x.shape, \"y:\", y.shape)\n",
    "        y = y[0, :, :, :]\n",
    "        y_pred = self.model(x)\n",
    "        _, prediction = torch.max(y_pred, dim=1)\n",
    "        print(\"Prediction shape:\", prediction.shape)\n",
    "        print(\"Label shape:\", y.shape)\n",
    "        loss = torch.nn.functional.cross_entropy(prediction.to(dtype=torch.float32), y)\n",
    "        loss = torch.tensor(loss, requires_grad=True)\n",
    "        self.log(\"train_loss\", loss)\n",
    "        return loss\n",
    "\n",
    "    def validation_step(self, batch, batch_idx):\n",
    "        x, x_, y = batch, batch[\"pixels\"], batch[\"labels\"]\n",
    "        # x = torch.tensor(x, requires_grad=True)\n",
    "        #y = y.to(dtype=torch.float32)\n",
    "        #y = y.squeeze()\n",
    "        #print(\"Shapes - x:\", x.shape, \"y:\", y.shape)\n",
    "        y = y[0, :, :, :]\n",
    "        y_pred = self.model(x)\n",
    "        _, prediction = torch.max(y_pred, dim=1)\n",
    "        print(\"Prediction shape:\", prediction.shape)\n",
    "        print(\"Label shape:\", y.shape)\n",
    "        val_loss = torch.nn.functional.cross_entropy(\n",
    "            prediction.to(dtype=torch.float32), y\n",
    "        )\n",
    "        val_loss = torch.tensor(val_loss, requires_grad=True)\n",
    "        self.log(\"val_loss\", val_loss)\n",
    "\n",
    "    def configure_optimizers(self):\n",
    "        optimizer = torch.optim.Adam(self.model.parameters(), lr=1e-3)\n",
    "        return optimizer\n",
    "    \n",
    "    def train_dataloader(self):\n",
    "        return self.datamodule.train_dataloader()\n",
    "\n",
    "    def val_dataloader(self):\n",
    "        return self.datamodule.val_dataloader()\n",
    "\n",
    "dm = ClayDataModule(data_dir=data_dir, batch_size=4)\n",
    "dm.setup()\n",
    "#val_dl = iter(dm.val_dataloader())\n",
    "\n",
    "model_unet = UNet(13, 2)\n",
    "model_clay = CLAYModule.load_from_checkpoint(\"../mae_epoch-10_val-loss-0.563.ckpt\", mask_ratio=0.)\n",
    "model_clay.eval();\n",
    "segmentation_model = SegmentationModel(model_unet, dm)\n",
    "\n",
    "trainer = Trainer(max_epochs=3)\n",
    "trainer.fit(segmentation_model)"
   ]
  },
  {
   "cell_type": "code",
   "execution_count": null,
   "id": "4067c6b4",
   "metadata": {},
   "outputs": [],
   "source": [
    "import matplotlib.pyplot as plt\n",
    "import torch\n",
    "from torch.utils.data import DataLoader\n",
    "import numpy\n",
    "\n",
    "def plot_predictions(model, dataloader):\n",
    "    model.eval()\n",
    "    with torch.no_grad():\n",
    "        for batch in dataloader:\n",
    "            x_val_, x_val, y_val = batch, batch[\"pixels\"], batch[\"labels\"]\n",
    "            y_pred = model(x_val_)\n",
    "            _, prediction = torch.max(y_pred, dim=1)\n",
    "\n",
    "            # Convert tensors to NumPy arrays for plotting\n",
    "            x_val_np = x_val.cpu().numpy()\n",
    "            y_val_np = y_val.cpu().numpy()\n",
    "            prediction_np = prediction.cpu().numpy()\n",
    "\n",
    "            # Plot images and masks\n",
    "            num_samples = len(x_val)  # Number of samples to visualize\n",
    "            fig, axes = plt.subplots(1, 3, figsize=(10, 10))\n",
    "\n",
    "            print(np.unique(y_val_np))\n",
    "            x_val_np = x_val_np.squeeze()\n",
    "            x_val_np = x_val_np.transpose(1, 2, 0)\n",
    "            x_val_np = np.stack((x_val_np[:,:,2], x_val_np[:,:,1], x_val_np[:,:,0]))\n",
    "            axes[0].imshow(x_val_np.transpose(1,2,0).clip(0, 3000) / 3000) # Plot image\n",
    "            axes[1].imshow(\n",
    "                y_val_np.squeeze()\n",
    "            )  # Plot ground truths\n",
    "            axes[2].imshow(prediction_np.squeeze())  # Plot model predictions\n",
    "\n",
    "            plt.show()\n",
    "\n",
    "\n",
    "# Load the trained model\n",
    "# loaded_model = UNet(13, 2)  # Initialize the model architecture\n",
    "# loaded_model.load_state_dict(torch.load('path_to_your_trained_model.pth'))  # Load trained weights\n",
    "\n",
    "# Run predictions and plot results\n",
    "plot_predictions(model_unet, dm.val_dataloader())\n"
   ]
  },
  {
   "cell_type": "code",
   "execution_count": null,
   "id": "20ce3fc8",
   "metadata": {},
   "outputs": [],
   "source": []
  }
 ],
 "metadata": {
  "kernelspec": {
   "display_name": "ptod",
   "language": "python",
   "name": "ptod"
  },
  "language_info": {
   "codemirror_mode": {
    "name": "ipython",
    "version": 3
   },
   "file_extension": ".py",
   "mimetype": "text/x-python",
   "name": "python",
   "nbconvert_exporter": "python",
   "pygments_lexer": "ipython3",
   "version": "3.8.6"
  }
 },
 "nbformat": 4,
 "nbformat_minor": 5
}
